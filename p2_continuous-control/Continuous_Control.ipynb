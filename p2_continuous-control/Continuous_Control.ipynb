{
 "cells": [
  {
   "cell_type": "markdown",
   "metadata": {},
   "source": [
    "# Continuous Control\n"
   ]
  },
  {
   "cell_type": "code",
   "execution_count": null,
   "metadata": {
    "scrolled": true
   },
   "outputs": [],
   "source": [
    "import numpy as np\n",
    "import matplotlib.pyplot as plt\n",
    "import torch\n",
    "\n",
    "from unityagents import UnityEnvironment\n",
    "from agent import Agent\n",
    "from ddpg_learning import ddpg\n"
   ]
  },
  {
   "cell_type": "code",
   "execution_count": null,
   "metadata": {},
   "outputs": [],
   "source": [
    "# Initialize the Environment\n",
    "env = UnityEnvironment(file_name=\"Reacher_20.app\")\n",
    "\n",
    "# Get the default brain\n",
    "brain_name = env.brain_names[0]\n",
    "brain = env.brains[brain_name]\n",
    "\n",
    "# Reset the environment\n",
    "env_info = env.reset(train_mode=True)[brain_name]\n",
    "\n",
    "# Get the action size\n",
    "action_size = brain.vector_action_space_size\n",
    "\n",
    "# Get the state size\n",
    "state_size = len(env_info.vector_observations[0])\n",
    "\n",
    "num_agents = len(env_info.agents)\n"
   ]
  },
  {
   "cell_type": "code",
   "execution_count": null,
   "metadata": {},
   "outputs": [],
   "source": [
    "BUFFER_SIZE = int(1e5)  # replay buffer size\n",
    "BATCH_SIZE = 1024        # minibatch size\n",
    "GAMMA = 0.99            # discount factor\n",
    "TAU = 1e-3              # for soft update of target parameters\n",
    "LR_ACTOR = 1e-4         # learning rate of the actor\n",
    "LR_CRITIC = 1e-3        # learning rate of the critic\n",
    "UPDATE_EVERY = 2\n",
    "\n",
    "device = torch.device(\"cuda:0\" if torch.cuda.is_available() else \"cpu\")\n",
    "\n",
    "agent = Agent(state_size=state_size,\n",
    "              action_size=action_size,\n",
    "              num_agents=num_agents,\n",
    "              buffer_size=BUFFER_SIZE,\n",
    "              batch_size=BATCH_SIZE,\n",
    "              gamma=GAMMA,\n",
    "              tau=TAU,\n",
    "              learning_rate_actor=LR_ACTOR,\n",
    "              learning_rate_critic=LR_CRITIC,\n",
    "              device=device,\n",
    "              update_every=UPDATE_EVERY,\n",
    "              random_seed=42)\n"
   ]
  },
  {
   "cell_type": "code",
   "execution_count": null,
   "metadata": {},
   "outputs": [],
   "source": [
    "AVERAGE_SCORE_SOLVED=30.0\n",
    "\n",
    "scores, num_episodes_solved = ddpg(env=env,\n",
    "                                   agent=agent,\n",
    "                                   num_agents=num_agents,\n",
    "                                   average_score_solved=AVERAGE_SCORE_SOLVED)\n"
   ]
  },
  {
   "cell_type": "code",
   "execution_count": null,
   "metadata": {},
   "outputs": [],
   "source": [
    "#Plot the training session (scores per episode)\n",
    "\n",
    "def plot_scores(scores):\n",
    "    plt.plot(scores, color='royalblue')\n",
    "    plt.title('Scores per episode')\n",
    "    plt.ylabel('score')\n",
    "    plt.xlabel('episode #')\n",
    "    plt.show()\n",
    "    \n",
    "plot_scores(scores)\n"
   ]
  },
  {
   "cell_type": "code",
   "execution_count": null,
   "metadata": {},
   "outputs": [],
   "source": [
    "scores"
   ]
  },
  {
   "cell_type": "code",
   "execution_count": null,
   "metadata": {},
   "outputs": [],
   "source": [
    "#skip learning every timestep\n",
    "#change batch size (increase)\n",
    "#smaller buffer size\n",
    "#change size of networks (smallest possible)\n",
    "#change noise reduce sigma=0.2 | random noise for each set of actions\n",
    "#add dropout | BatchNorm1d\n",
    "#change LR\n",
    "\n",
    "#comments\n",
    "#add report, README"
   ]
  },
  {
   "cell_type": "code",
   "execution_count": null,
   "metadata": {},
   "outputs": [],
   "source": []
  },
  {
   "cell_type": "code",
   "execution_count": null,
   "metadata": {},
   "outputs": [],
   "source": [
    "#See the trained agent in action.\n",
    "env_info = env.reset(train_mode=False)[brain_name] # reset the environment\n",
    "states = env_info.vector_observations              # get the current state\n",
    "\n",
    "#Uncomment these lines to use a saved checkpoint:\n",
    "#agent = Agent(state_size=state_size,\n",
    "#              action_size=action_size,\n",
    "#              num_agents=num_agents,\n",
    "#              buffer_size=BUFFER_SIZE,\n",
    "#              batch_size=BATCH_SIZE,\n",
    "#              gamma=GAMMA,\n",
    "#              tau=TAU,\n",
    "#              learning_rate_actor=LR_ACTOR,\n",
    "#              learning_rate_critic=LR_CRITIC,\n",
    "#              device=device,\n",
    "#              update_every=UPDATE_EVERY,\n",
    "#              random_seed=42)\n",
    "#agent.actor_local.load_state_dict(torch.load('solved_checkpoint_actor.pth'))\n",
    "\n",
    "steps=0\n",
    "\n",
    "scores = np.zeros(num_agents) \n",
    "while True:\n",
    "    steps+=1\n",
    "    actions = agent.act(states, add_noise=False)   # select an action\n",
    "    env_info = env.step(actions)[brain_name]       # send the action to the environment\n",
    "    next_states = env_info.vector_observations     # get the next state\n",
    "    rewards = env_info.rewards                     # get the reward\n",
    "    dones = env_info.local_done                    # see if episode has finished\n",
    "    states = next_states                           # roll over the state to next time step\n",
    "    scores += rewards                              # update the score\n",
    "    if np.any(dones):                              # exit loop if episode finished\n",
    "        break\n",
    "    \n",
    "print(\"Average Score: {}\".format(np.mean(scores)))"
   ]
  },
  {
   "cell_type": "code",
   "execution_count": null,
   "metadata": {},
   "outputs": [],
   "source": [
    "steps #1000 per episode per agent"
   ]
  },
  {
   "cell_type": "code",
   "execution_count": null,
   "metadata": {},
   "outputs": [],
   "source": [
    "env.close()"
   ]
  },
  {
   "cell_type": "code",
   "execution_count": null,
   "metadata": {},
   "outputs": [],
   "source": []
  },
  {
   "cell_type": "code",
   "execution_count": null,
   "metadata": {},
   "outputs": [],
   "source": [
    "#Network (256) (256, 256, 128)\n",
    "\n",
    "#BUFFER_SIZE = int(1e6)  # replay buffer size\n",
    "#BATCH_SIZE = 64        # minibatch size\n",
    "#GAMMA = 0.99            # discount factor\n",
    "#TAU = 1e-3              # for soft update of target parameters\n",
    "#LR_ACTOR = 1e-4         # learning rate of the actor\n",
    "#LR_CRITIC = 1e-3        # learning rate of the critic\n",
    "\n",
    "#ONE AGENT\n",
    "#Episode 100\tAverage Score: 1.8539999585598708\tScore: 1.92999995686113833\n",
    "#Episode 200\tAverage Score: 4.243399905152619\tScore: 7.33999983593821585\n",
    "#Episode 300\tAverage Score: 6.629699852038175\tScore: 8.46999981068074755\n",
    "#Episode 323\tAverage Score: 7.2578998377732935\tScore: 8.1299998182803445\n",
    "\n",
    "#20 AGENTS\n",
    "#Episode 100\tAverage Score: 6.294999859295785\tScore: 12.4614997214637755\n",
    "#Episode 101\tAverage Score: 6.44864985586144\tScore: 15.647999650239944"
   ]
  },
  {
   "cell_type": "code",
   "execution_count": null,
   "metadata": {},
   "outputs": [],
   "source": [
    "#Network (128) (128, 64, 32)\n",
    "\n",
    "#BUFFER_SIZE = int(1e6)  # replay buffer size\n",
    "#BATCH_SIZE = 256        # minibatch size\n",
    "#GAMMA = 0.99            # discount factor\n",
    "#TAU = 1e-3              # for soft update of target parameters\n",
    "#LR_ACTOR = 1e-4         # learning rate of the actor\n",
    "#LR_CRITIC = 1e-3        # learning rate of the critic\n",
    "\n",
    "#Episode 100\tAverage Score: 12.235059726748619\tScore: 25.371499432902784\n",
    "#Episode 104\tAverage Score: 13.194844705072235\tScore: 23.469499475415795"
   ]
  },
  {
   "cell_type": "code",
   "execution_count": null,
   "metadata": {},
   "outputs": [],
   "source": [
    "#Network (128) (128, 64, 32)\n",
    "\n",
    "#BUFFER_SIZE = int(1e6)  # replay buffer size\n",
    "#BATCH_SIZE = 256        # minibatch size\n",
    "#GAMMA = 0.99            # discount factor\n",
    "#TAU = 1e-3              # for soft update of target parameters\n",
    "#LR_ACTOR = 1e-4         # learning rate of the actor\n",
    "#LR_CRITIC = 1e-3        # learning rate of the critic\n",
    "\n",
    "#update_every=2\n",
    "#different noise for each agent\n",
    "\n",
    "#Episode 100\tAverage Score: 9.29\tScore: 24.03\n",
    "#Episode 178\tAverage Score: 30.01\tScore: 36.45\n",
    "#Environment solved in 78 episodes!\tAverage Score: 30.01\n"
   ]
  },
  {
   "cell_type": "code",
   "execution_count": null,
   "metadata": {},
   "outputs": [],
   "source": [
    "#Network (128) (128, 64, 32)\n",
    "\n",
    "#BUFFER_SIZE = int(1e6)  # replay buffer size\n",
    "#BATCH_SIZE = 512        # minibatch size\n",
    "#GAMMA = 0.99            # discount factor\n",
    "#TAU = 1e-3              # for soft update of target parameters\n",
    "#LR_ACTOR = 1e-4         # learning rate of the actor\n",
    "#LR_CRITIC = 1e-3        # learning rate of the critic\n",
    "\n",
    "#update_every=2\n",
    "#different noise for each agent\n",
    "\n",
    "#Episode 50\tAverage Score: 3.01\tScore: 8.46\n",
    "#Episode 100\tAverage Score: 8.71\tScore: 16.27\n",
    "#Episode 150\tAverage Score: 18.03\tScore: 26.12\n",
    "#Episode 200\tAverage Score: 24.41\tScore: 31.73\n",
    "#Episode 249\tAverage Score: 30.02\tScore: 33.05\n",
    "#Environment solved in 149 episodes!\tAverage Score: 30.02\n"
   ]
  },
  {
   "cell_type": "code",
   "execution_count": null,
   "metadata": {},
   "outputs": [],
   "source": [
    "#Network (128) (128, 64, 32)\n",
    "\n",
    "#BUFFER_SIZE = int(1e6)  # replay buffer size\n",
    "#BATCH_SIZE = 1024        # minibatch size\n",
    "#GAMMA = 0.99            # discount factor\n",
    "#TAU = 1e-3              # for soft update of target parameters\n",
    "#LR_ACTOR = 1e-4         # learning rate of the actor\n",
    "#LR_CRITIC = 1e-3        # learning rate of the critic\n",
    "\n",
    "#update_every=2\n",
    "#different noise for each agent\n",
    "\n",
    "#Episode 50\tAverage Score: 6.35\tScore: 16.11\n",
    "#Episode 100\tAverage Score: 16.67\tScore: 34.72\n",
    "#Episode 142\tAverage Score: 30.06\tScore: 37.12\n",
    "#Environment solved in 42 episodes!\tAverage Score: 30.06"
   ]
  },
  {
   "cell_type": "code",
   "execution_count": null,
   "metadata": {},
   "outputs": [],
   "source": [
    "#Network (128) (128, 64, 32)\n",
    "\n",
    "#BUFFER_SIZE = int(1e5)  # replay buffer size\n",
    "#BATCH_SIZE = 1024        # minibatch size\n",
    "#GAMMA = 0.99            # discount factor\n",
    "#TAU = 1e-3              # for soft update of target parameters\n",
    "#LR_ACTOR = 1e-4         # learning rate of the actor\n",
    "#LR_CRITIC = 1e-3        # learning rate of the critic\n",
    "\n",
    "#update_every=2\n",
    "#different noise for each agent\n",
    "\n",
    "#Episode 50\tAverage Score: 14.23\tScore: 36.97\n",
    "#Episode 100\tAverage Score: 25.06\tScore: 37.03\n",
    "#Episode 115\tAverage Score: 30.26\tScore: 35.87\n",
    "#Environment solved in 15 episodes!\tAverage Score: 30.26"
   ]
  },
  {
   "cell_type": "code",
   "execution_count": null,
   "metadata": {},
   "outputs": [],
   "source": [
    "#Network (128) (128, 64, 32)\n",
    "\n",
    "#BUFFER_SIZE = int(1e5)  # replay buffer size\n",
    "#BATCH_SIZE = 1024        # minibatch size\n",
    "#GAMMA = 0.99            # discount factor\n",
    "#TAU = 1e-3              # for soft update of target parameters\n",
    "#LR_ACTOR = 1e-4         # learning rate of the actor\n",
    "#LR_CRITIC = 1e-3        # learning rate of the critic\n",
    "\n",
    "#update_every=2\n",
    "#different noise for each agent\n",
    "#add batch norm (more stable?)\n",
    "\n",
    "#Episode 50\tAverage Score: 9.10\tScore: 26.58\n",
    "#Episode 100\tAverage Score: 19.40\tScore: 26.75\n",
    "#Episode 140\tAverage Score: 30.01\tScore: 32.48\n",
    "#Environment solved in 40 episodes!\tAverage Score: 30.01"
   ]
  },
  {
   "cell_type": "code",
   "execution_count": null,
   "metadata": {},
   "outputs": [],
   "source": [
    "#BEST?\n",
    "#Network (128, 64) (128, 64, 32)\n",
    "\n",
    "#BUFFER_SIZE = int(1e5)  # replay buffer size\n",
    "#BATCH_SIZE = 1024        # minibatch size\n",
    "#GAMMA = 0.99            # discount factor\n",
    "#TAU = 1e-3              # for soft update of target parameters\n",
    "#LR_ACTOR = 1e-4         # learning rate of the actor\n",
    "#LR_CRITIC = 1e-3        # learning rate of the critic\n",
    "\n",
    "#update_every=2\n",
    "#different noise for each agent\n",
    "#add batch norm (more stable?)\n",
    "\n",
    "#Episode 50\tAverage Score: 15.79\tScore: 34.08\n",
    "#Episode 100\tAverage Score: 23.49\tScore: 27.50\n",
    "#Episode 122\tAverage Score: 30.18\tScore: 31.47\n",
    "#Environment solved in 22 episodes!\tAverage Score: 30.18\n",
    "\n",
    "#Episode 50\tAverage Score: 16.11\tScore: 34.15\n",
    "#Episode 100\tAverage Score: 24.06\tScore: 33.36\n",
    "#Episode 118\tAverage Score: 30.07\tScore: 35.69\n",
    "#Environment solved in 18 episodes!\tAverage Score: 30.07"
   ]
  },
  {
   "cell_type": "code",
   "execution_count": null,
   "metadata": {},
   "outputs": [],
   "source": [
    "#Network (64, 32) (64, 32, 16)\n",
    "#score went down - unstable \n",
    "\n",
    "#BUFFER_SIZE = int(1e5)  # replay buffer size\n",
    "#BATCH_SIZE = 1024        # minibatch size\n",
    "#GAMMA = 0.99            # discount factor\n",
    "#TAU = 1e-3              # for soft update of target parameters\n",
    "#LR_ACTOR = 1e-4         # learning rate of the actor\n",
    "#LR_CRITIC = 1e-3        # learning rate of the critic\n",
    "\n",
    "#update_every=2\n",
    "#different noise for each agent\n",
    "#add batch norm (more stable?)\n",
    "\n",
    "#unstable"
   ]
  },
  {
   "cell_type": "code",
   "execution_count": null,
   "metadata": {},
   "outputs": [],
   "source": [
    "#Network (128, 64) (128, 64, 32)\n",
    "\n",
    "#BUFFER_SIZE = int(1e5)  # replay buffer size\n",
    "#BATCH_SIZE = 1024        # minibatch size\n",
    "#GAMMA = 0.99            # discount factor\n",
    "#TAU = 1e-3              # for soft update of target parameters\n",
    "#LR_ACTOR = 1e-3         # learning rate of the actor\n",
    "#LR_CRITIC = 1e-3        # learning rate of the critic\n",
    "\n",
    "#update_every=2\n",
    "#different noise for each agent\n",
    "#add batch norm (more stable?)\n",
    "\n",
    "#Episode 50\tAverage Score: 11.90\tScore: 35.13\n",
    "#Episode 100\tAverage Score: 21.94\tScore: 33.25\n",
    "#Episode 131\tAverage Score: 30.05\tScore: 20.80\n",
    "#Environment solved in 31 episodes!\tAverage Score: 30.05"
   ]
  }
 ],
 "metadata": {
  "kernelspec": {
   "display_name": "drlnd",
   "language": "python",
   "name": "drlnd"
  },
  "language_info": {
   "codemirror_mode": {
    "name": "ipython",
    "version": 3
   },
   "file_extension": ".py",
   "mimetype": "text/x-python",
   "name": "python",
   "nbconvert_exporter": "python",
   "pygments_lexer": "ipython3",
   "version": "3.6.12"
  }
 },
 "nbformat": 4,
 "nbformat_minor": 2
}
