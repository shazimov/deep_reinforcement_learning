{
 "cells": [
  {
   "cell_type": "markdown",
   "metadata": {},
   "source": [
    "# Continuous Control\n"
   ]
  },
  {
   "cell_type": "code",
   "execution_count": 4,
   "metadata": {
    "scrolled": true
   },
   "outputs": [],
   "source": [
    "import numpy as np\n",
    "import matplotlib.pyplot as plt\n",
    "import torch\n",
    "\n",
    "from unityagents import UnityEnvironment\n",
    "from agent import Agent\n",
    "from ddpg_learning import ddpg\n"
   ]
  },
  {
   "cell_type": "code",
   "execution_count": 5,
   "metadata": {},
   "outputs": [
    {
     "name": "stderr",
     "output_type": "stream",
     "text": [
      "INFO:unityagents:\n",
      "'Academy' started successfully!\n",
      "Unity Academy name: Academy\n",
      "        Number of Brains: 1\n",
      "        Number of External Brains : 1\n",
      "        Lesson number : 0\n",
      "        Reset Parameters :\n",
      "\t\tgoal_speed -> 1.0\n",
      "\t\tgoal_size -> 5.0\n",
      "Unity brain name: ReacherBrain\n",
      "        Number of Visual Observations (per agent): 0\n",
      "        Vector Observation space type: continuous\n",
      "        Vector Observation space size (per agent): 33\n",
      "        Number of stacked Vector Observation: 1\n",
      "        Vector Action space type: continuous\n",
      "        Vector Action space size (per agent): 4\n",
      "        Vector Action descriptions: , , , \n"
     ]
    }
   ],
   "source": [
    "# Initialize the Environment\n",
    "env = UnityEnvironment(file_name=\"Reacher_20.app\")\n",
    "\n",
    "# Get the default brain\n",
    "brain_name = env.brain_names[0]\n",
    "brain = env.brains[brain_name]\n",
    "\n",
    "# Reset the environment\n",
    "env_info = env.reset(train_mode=True)[brain_name]\n",
    "\n",
    "# Get the action size\n",
    "action_size = brain.vector_action_space_size\n",
    "\n",
    "# Get the state size\n",
    "state_size = len(env_info.vector_observations[0])\n",
    "\n",
    "num_agents = len(env_info.agents)\n"
   ]
  },
  {
   "cell_type": "code",
   "execution_count": 6,
   "metadata": {},
   "outputs": [],
   "source": [
    "BUFFER_SIZE = int(1e6)  # replay buffer size\n",
    "BATCH_SIZE = 256        # minibatch size\n",
    "GAMMA = 0.99            # discount factor\n",
    "TAU = 1e-3              # for soft update of target parameters\n",
    "LR_ACTOR = 1e-4         # learning rate of the actor\n",
    "LR_CRITIC = 1e-3        # learning rate of the critic\n",
    "UPDATE_EVERY = 2\n",
    "\n",
    "device = torch.device(\"cuda:0\" if torch.cuda.is_available() else \"cpu\")\n",
    "\n",
    "agent = Agent(state_size=state_size,\n",
    "              action_size=action_size,\n",
    "              num_agents=num_agents,\n",
    "              buffer_size=BUFFER_SIZE,\n",
    "              batch_size=BATCH_SIZE,\n",
    "              gamma=GAMMA,\n",
    "              tau=TAU,\n",
    "              learning_rate_actor=LR_ACTOR,\n",
    "              learning_rate_critic=LR_CRITIC,\n",
    "              device=device,\n",
    "              update_every=UPDATE_EVERY,\n",
    "              random_seed=42)\n"
   ]
  },
  {
   "cell_type": "code",
   "execution_count": null,
   "metadata": {},
   "outputs": [
    {
     "name": "stdout",
     "output_type": "stream",
     "text": [
      "Episode 2\tAverage Score: 0.73\tScore: 0.73"
     ]
    }
   ],
   "source": [
    "AVERAGE_SCORE_SOLVED=30.0\n",
    "\n",
    "scores, num_episodes_solved = ddpg(env=env,\n",
    "                                   agent=agent,\n",
    "                                   num_agents=num_agents,\n",
    "                                   average_score_solved=AVERAGE_SCORE_SOLVED)\n"
   ]
  },
  {
   "cell_type": "code",
   "execution_count": null,
   "metadata": {},
   "outputs": [],
   "source": [
    "#skip learning every timestep\n",
    "#change batch size (increase)\n",
    "#change size of networks (smallest possible)\n",
    "#change noise reduce sigma=0.2 | random noise for each set of actions\n",
    "#add dropout | BatchNorm1d\n",
    "#skip learning every timestep\n",
    "#change LR\n",
    "\n",
    "#comments\n",
    "#add report, README"
   ]
  },
  {
   "cell_type": "code",
   "execution_count": null,
   "metadata": {},
   "outputs": [],
   "source": []
  },
  {
   "cell_type": "code",
   "execution_count": null,
   "metadata": {},
   "outputs": [],
   "source": [
    "env.close()"
   ]
  },
  {
   "cell_type": "code",
   "execution_count": null,
   "metadata": {},
   "outputs": [],
   "source": []
  },
  {
   "cell_type": "code",
   "execution_count": null,
   "metadata": {},
   "outputs": [],
   "source": [
    "#Network (256) (256, 256, 128)\n",
    "\n",
    "#BUFFER_SIZE = int(1e6)  # replay buffer size\n",
    "#BATCH_SIZE = 64        # minibatch size\n",
    "#GAMMA = 0.99            # discount factor\n",
    "#TAU = 1e-3              # for soft update of target parameters\n",
    "#LR_ACTOR = 1e-4         # learning rate of the actor\n",
    "#LR_CRITIC = 1e-3        # learning rate of the critic\n",
    "#WEIGHT_DECAY = 0   # L2 weight decay\n",
    "\n",
    "#ONE AGENT\n",
    "#Episode 100\tAverage Score: 1.8539999585598708\tScore: 1.92999995686113833\n",
    "#Episode 200\tAverage Score: 4.243399905152619\tScore: 7.33999983593821585\n",
    "#Episode 300\tAverage Score: 6.629699852038175\tScore: 8.46999981068074755\n",
    "#Episode 323\tAverage Score: 7.2578998377732935\tScore: 8.1299998182803445\n",
    "\n",
    "#20 AGENTS\n",
    "#Episode 100\tAverage Score: 6.294999859295785\tScore: 12.4614997214637755\n",
    "#Episode 101\tAverage Score: 6.44864985586144\tScore: 15.647999650239944"
   ]
  },
  {
   "cell_type": "code",
   "execution_count": null,
   "metadata": {},
   "outputs": [],
   "source": [
    "#Network (128) (128, 64, 32)\n",
    "\n",
    "#BUFFER_SIZE = int(1e6)  # replay buffer size\n",
    "#BATCH_SIZE = 256        # minibatch size\n",
    "#GAMMA = 0.99            # discount factor\n",
    "#TAU = 1e-3              # for soft update of target parameters\n",
    "#LR_ACTOR = 1e-4         # learning rate of the actor\n",
    "#LR_CRITIC = 1e-3        # learning rate of the critic\n",
    "#WEIGHT_DECAY = 0   # L2 weight decay\n",
    "\n",
    "#Episode 100\tAverage Score: 12.235059726748619\tScore: 25.371499432902784\n",
    "#Episode 104\tAverage Score: 13.194844705072235\tScore: 23.469499475415795"
   ]
  },
  {
   "cell_type": "code",
   "execution_count": null,
   "metadata": {},
   "outputs": [],
   "source": [
    "#Network (128) (128, 64, 32)\n",
    "\n",
    "#BUFFER_SIZE = int(1e6)  # replay buffer size\n",
    "#BATCH_SIZE = 256        # minibatch size\n",
    "#GAMMA = 0.99            # discount factor\n",
    "#TAU = 1e-3              # for soft update of target parameters\n",
    "#LR_ACTOR = 1e-4         # learning rate of the actor\n",
    "#LR_CRITIC = 1e-3        # learning rate of the critic\n",
    "#WEIGHT_DECAY = 0   # L2 weight decay\n",
    "\n",
    "#update_every=2\n",
    "#different noise for each agent\n",
    "\n",
    "#Episode 100\tAverage Score: 9.05\tScore: 19.61\n",
    "#Episode 101\tAverage Score: 9.24\tScore: 19.74"
   ]
  },
  {
   "cell_type": "code",
   "execution_count": null,
   "metadata": {},
   "outputs": [],
   "source": []
  },
  {
   "cell_type": "code",
   "execution_count": null,
   "metadata": {},
   "outputs": [],
   "source": []
  }
 ],
 "metadata": {
  "kernelspec": {
   "display_name": "Python 3",
   "language": "python",
   "name": "python3"
  },
  "language_info": {
   "codemirror_mode": {
    "name": "ipython",
    "version": 3
   },
   "file_extension": ".py",
   "mimetype": "text/x-python",
   "name": "python",
   "nbconvert_exporter": "python",
   "pygments_lexer": "ipython3",
   "version": "3.6.12"
  }
 },
 "nbformat": 4,
 "nbformat_minor": 2
}
