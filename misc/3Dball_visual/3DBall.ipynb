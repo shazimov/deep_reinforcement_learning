{
 "cells": [
  {
   "cell_type": "markdown",
   "metadata": {},
   "source": [
    "# 3D Ball"
   ]
  },
  {
   "cell_type": "code",
   "execution_count": 1,
   "metadata": {
    "scrolled": true
   },
   "outputs": [],
   "source": [
    "import numpy as np\n",
    "import matplotlib.pyplot as plt\n",
    "import torch\n",
    "\n",
    "from mlagents_envs.environment import UnityEnvironment\n",
    "from gym_unity.envs import UnityToGymWrapper\n",
    "import numpy as np\n",
    "\n",
    "from agent import Agent\n",
    "from ddpg_learning import ddpg"
   ]
  },
  {
   "cell_type": "code",
   "execution_count": 2,
   "metadata": {},
   "outputs": [
    {
     "data": {
      "text/plain": [
       "True"
      ]
     },
     "execution_count": 2,
     "metadata": {},
     "output_type": "execute_result"
    }
   ],
   "source": [
    "torch.cuda.is_available()"
   ]
  },
  {
   "cell_type": "code",
   "execution_count": 3,
   "metadata": {},
   "outputs": [
    {
     "name": "stderr",
     "output_type": "stream",
     "text": [
      "2021-04-19 11:48:59 INFO [environment.py:113] Connected to Unity environment with package version 1.9.0-preview and communication version 1.5.0\n",
      "2021-04-19 11:49:00 INFO [environment.py:282] Connected new brain:\n",
      "Visual3DBall?team=0\n",
      "C:\\Users\\me\\anaconda3\\envs\\unity\\lib\\site-packages\\gym\\logger.py:30: UserWarning: \u001b[33mWARN: Box bound precision lowered by casting to float32\u001b[0m\n",
      "  warnings.warn(colorize('%s: %s'%('WARN', msg % args), 'yellow'))\n"
     ]
    }
   ],
   "source": [
    "# Initialize the Environment\n",
    "unity_env = UnityEnvironment(file_name=\"Visual3DBall\\\\UnityEnvironment.app\")\n",
    "env = UnityToGymWrapper(unity_env)\n",
    "\n",
    "# Get the action size\n",
    "action_size = 2\n",
    "\n",
    "# Get the state size\n",
    "state_shape = (84,84,12)\n",
    "\n",
    "# Get number of agents\n",
    "num_agents = 1\n"
   ]
  },
  {
   "cell_type": "code",
   "execution_count": 5,
   "metadata": {},
   "outputs": [
    {
     "data": {
      "text/plain": [
       "<All keys matched successfully>"
      ]
     },
     "execution_count": 5,
     "metadata": {},
     "output_type": "execute_result"
    }
   ],
   "source": [
    "#Initialize the Agent with given hyperparameters\n",
    "\n",
    "BUFFER_SIZE = int(3e4)  # replay buffer size\n",
    "BATCH_SIZE = 128       # batch size\n",
    "GAMMA = 0.99            # discount factor\n",
    "TAU = 1e-2              # for soft update of target parameters 1e-4\n",
    "LR_ACTOR = 5e-4         # learning rate of the actor 1e-4\n",
    "LR_CRITIC = 5e-3        # learning rate of the critic 1e-4\n",
    "UPDATE_EVERY = 1        # how often to update the network\n",
    "\n",
    "device = torch.device(\"cuda:0\" if torch.cuda.is_available() else \"cpu\") #Torch device to use\n",
    "\n",
    "agent = Agent(state_shape=state_shape,\n",
    "              action_size=action_size,\n",
    "              num_agents=num_agents,\n",
    "              buffer_size=BUFFER_SIZE,\n",
    "              batch_size=BATCH_SIZE,\n",
    "              gamma=GAMMA,\n",
    "              tau=TAU,\n",
    "              learning_rate_actor=LR_ACTOR,\n",
    "              learning_rate_critic=LR_CRITIC,\n",
    "              device=device,\n",
    "              update_every=UPDATE_EVERY,\n",
    "              random_seed=42)\n",
    "\n",
    "\n",
    "agent.actor_local.load_state_dict(torch.load('checkpoints\\\\prioritized_replay\\\\checkpoint_actor_local_3000.pth'))\n",
    "agent.critic_local.load_state_dict(torch.load('checkpoints\\\\prioritized_replay\\\\checkpoint_critic_local_3000.pth'))\n",
    "agent.actor_target.load_state_dict(torch.load('checkpoints\\\\prioritized_replay\\\\checkpoint_actor_target_3000.pth'))\n",
    "agent.critic_target.load_state_dict(torch.load('checkpoints\\\\prioritized_replay\\\\checkpoint_critic_target_3000.pth'))"
   ]
  },
  {
   "cell_type": "code",
   "execution_count": null,
   "metadata": {},
   "outputs": [
    {
     "name": "stdout",
     "output_type": "stream",
     "text": [
      "Episode 100\tAverage Score: \u001b[1m1.04\u001b[0m\tMax: 3.20\tMax Timesteps: 43     \n",
      "Elapsed Time: 3 minutes 31 seconds\tTotal Timesteps: 2137\n",
      "Episode 126\tAverage Score: 0.94\tScore: 0.50\tTimesteps: 16               "
     ]
    }
   ],
   "source": [
    "# Train the agent\n",
    "\n",
    "AVERAGE_SCORE_SOLVED=100\n",
    "\n",
    "scores, num_episodes_solved = ddpg(env=env,\n",
    "                                   agent=agent,\n",
    "                                   num_agents=num_agents,\n",
    "                                   average_score_solved=AVERAGE_SCORE_SOLVED)\n"
   ]
  },
  {
   "cell_type": "code",
   "execution_count": null,
   "metadata": {},
   "outputs": [],
   "source": [
    "#prioritized replay\n",
    "\n",
    "BUFFER_SIZE = int(3e4)  # replay buffer size\n",
    "BATCH_SIZE = 128        # batch size\n",
    "GAMMA = 0.99            # discount factor\n",
    "TAU = 1e-2              # for soft update of target parameters\n",
    "LR_ACTOR = 5e-4         # learning rate of the actor\n",
    "LR_CRITIC = 5e-3        # learning rate of the critic\n",
    "UPDATE_EVERY = 1        # how often to update the network\n",
    "\n",
    "\n",
    "Episode 100\tAverage Score: 0.42\tMax: 1.60\tMax Timesteps: 27     \n",
    "Elapsed Time: 2 minutes 28 seconds\tTotal Timesteps: 1519\n",
    "Episode 200\tAverage Score: 0.62\tMax: 1.90\tMax Timesteps: 30     \n",
    "Elapsed Time: 5 minutes 18 seconds\tTotal Timesteps: 3235\n",
    "Episode 300\tAverage Score: 0.66\tMax: 3.30\tMax Timesteps: 44     \n",
    "Elapsed Time: 8 minutes 12 seconds\tTotal Timesteps: 4998\n",
    "Episode 400\tAverage Score: 1.37\tMax: 3.40\tMax Timesteps: 45     \n",
    "Elapsed Time: 12 minutes 18 seconds\tTotal Timesteps: 7472\n",
    "Episode 500\tAverage Score: 1.43\tMax: 4.20\tMax Timesteps: 53     \n",
    "Elapsed Time: 16 minutes 29 seconds\tTotal Timesteps: 10000\n",
    "Episode 600\tAverage Score: 1.43\tMax: 4.50\tMax Timesteps: 56     \n",
    "Elapsed Time: 20 minutes 39 seconds\tTotal Timesteps: 12525\n",
    "Episode 700\tAverage Score: 1.57\tMax: 4.50\tMax Timesteps: 56     \n",
    "Elapsed Time: 25 minutes 4 seconds\tTotal Timesteps: 15192\n",
    "Episode 800\tAverage Score: 1.57\tMax: 4.90\tMax Timesteps: 60     \n",
    "Elapsed Time: 29 minutes 29 seconds\tTotal Timesteps: 17866\n",
    "Episode 900\tAverage Score: 1.39\tMax: 4.10\tMax Timesteps: 52     \n",
    "Elapsed Time: 33 minutes 36 seconds\tTotal Timesteps: 20356\n",
    "Episode 1000\tAverage Score: 1.66\tMax: 6.10\tMax Timesteps: 72     \n",
    "Elapsed Time: 38 minutes 10 seconds\tTotal Timesteps: 23113\n",
    "Episode 1100\tAverage Score: 1.58\tMax: 4.20\tMax Timesteps: 53     \n",
    "Elapsed Time: 42 minutes 37 seconds\tTotal Timesteps: 25794\n",
    "Episode 1200\tAverage Score: 1.45\tMax: 4.20\tMax Timesteps: 53     \n",
    "Elapsed Time: 46 minutes 50 seconds\tTotal Timesteps: 28346\n",
    "Episode 1300\tAverage Score: 1.66\tMax: 7.40\tMax Timesteps: 85     \n",
    "Elapsed Time: 51 minutes 24 seconds\tTotal Timesteps: 31104\n",
    "Episode 1400\tAverage Score: 1.77\tMax: 6.90\tMax Timesteps: 80     \n",
    "Elapsed Time: 56 minutes 8 seconds\tTotal Timesteps: 33976\n",
    "Episode 1500\tAverage Score: 1.76\tMax: 5.30\tMax Timesteps: 64     \n",
    "Elapsed Time: 60 minutes 53 seconds\tTotal Timesteps: 36836\n",
    "Episode 1600\tAverage Score: 1.83\tMax: 6.40\tMax Timesteps: 75     \n",
    "Elapsed Time: 65 minutes 43 seconds\tTotal Timesteps: 39762\n",
    "Episode 1700\tAverage Score: 1.76\tMax: 7.60\tMax Timesteps: 87     \n",
    "Elapsed Time: 70 minutes 28 seconds\tTotal Timesteps: 42626\n",
    "Episode 1800\tAverage Score: 1.55\tMax: 5.20\tMax Timesteps: 63     \n",
    "Elapsed Time: 74 minutes 51 seconds\tTotal Timesteps: 45280\n",
    "Episode 1900\tAverage Score: 1.74\tMax: 7.90\tMax Timesteps: 90     \n",
    "Elapsed Time: 79 minutes 35 seconds\tTotal Timesteps: 48120\n",
    "Episode 2000\tAverage Score: 1.66\tMax: 5.90\tMax Timesteps: 70     \n",
    "Elapsed Time: 84 minutes 9 seconds\tTotal Timesteps: 50884\n",
    "Episode 2100\tAverage Score: 1.79\tMax: 8.60\tMax Timesteps: 97     \n",
    "Elapsed Time: 88 minutes 56 seconds\tTotal Timesteps: 53770\n",
    "Episode 2200\tAverage Score: 1.63\tMax: 7.60\tMax Timesteps: 87     \n",
    "Elapsed Time: 93 minutes 27 seconds\tTotal Timesteps: 56495\n",
    "Episode 2300\tAverage Score: 1.82\tMax: 5.20\tMax Timesteps: 63     \n",
    "Elapsed Time: 98 minutes 17 seconds\tTotal Timesteps: 59419\n",
    "Episode 2400\tAverage Score: 1.67\tMax: 5.10\tMax Timesteps: 62     \n",
    "Elapsed Time: 102 minutes 52 seconds\tTotal Timesteps: 62186\n",
    "Episode 2500\tAverage Score: 1.97\tMax: 8.20\tMax Timesteps: 93     \n",
    "Elapsed Time: 107 minutes 57 seconds\tTotal Timesteps: 65258\n",
    "Episode 2600\tAverage Score: 1.98\tMax: 6.70\tMax Timesteps: 78     \n",
    "Elapsed Time: 113 minutes 3 seconds\tTotal Timesteps: 68341\n",
    "Episode 2700\tAverage Score: 1.88\tMax: 8.30\tMax Timesteps: 94     \n",
    "Elapsed Time: 117 minutes 59 seconds\tTotal Timesteps: 71320\n",
    "Episode 2800\tAverage Score: 1.73\tMax: 6.00\tMax Timesteps: 71     \n",
    "Elapsed Time: 122 minutes 40 seconds\tTotal Timesteps: 74154\n",
    "Episode 2900\tAverage Score: 1.96\tMax: 7.30\tMax Timesteps: 84     \n",
    "Elapsed Time: 127 minutes 45 seconds\tTotal Timesteps: 77215\n",
    "Episode 3000\tAverage Score: 1.87\tMax: 10.80\tMax Timesteps: 119     \n",
    "Elapsed Time: 132 minutes 53 seconds\tTotal Timesteps: 80185\n"
   ]
  },
  {
   "cell_type": "code",
   "execution_count": null,
   "metadata": {},
   "outputs": [],
   "source": [
    "#prioritized replay\n",
    "#gradient clipping\n",
    "\n",
    "BUFFER_SIZE = int(3e4)  # replay buffer size\n",
    "BATCH_SIZE = 128        # batch size\n",
    "GAMMA = 0.99            # discount factor\n",
    "TAU = 1e-2              # for soft update of target parameters\n",
    "LR_ACTOR = 5e-4         # learning rate of the actor\n",
    "LR_CRITIC = 5e-3        # learning rate of the critic\n",
    "UPDATE_EVERY = 1        # how often to update the network\n",
    "\n"
   ]
  },
  {
   "cell_type": "code",
   "execution_count": null,
   "metadata": {},
   "outputs": [],
   "source": [
    "#Plot the training session (scores per episode averaged across all agents)\n",
    "\n",
    "def plot_scores(scores):\n",
    "    plt.plot(scores, color='royalblue')\n",
    "    plt.title('Scores per episode')\n",
    "    plt.ylabel('score')\n",
    "    plt.xlabel('episode #')\n",
    "    plt.show()\n",
    "    \n",
    "plot_scores(scores)          "
   ]
  },
  {
   "cell_type": "code",
   "execution_count": null,
   "metadata": {},
   "outputs": [],
   "source": [
    "#See the trained agent in action.\n",
    "\n",
    "env_info = env.reset(train_mode=False)[brain_name] # reset the environment\n",
    "states = env_info.vector_observations              # get the current state\n",
    "\n",
    "#Uncomment these lines to use a saved checkpoint:\n",
    "#agent = Agent(state_size=state_size,\n",
    "#              action_size=action_size,\n",
    "#              num_agents=num_agents,\n",
    "#              buffer_size=BUFFER_SIZE,\n",
    "#              batch_size=BATCH_SIZE,\n",
    "#              gamma=GAMMA,\n",
    "#              tau=TAU,\n",
    "#              learning_rate_actor=LR_ACTOR,\n",
    "#              learning_rate_critic=LR_CRITIC,\n",
    "#              device=device,\n",
    "#              update_every=UPDATE_EVERY,\n",
    "#              random_seed=42)\n",
    "#agent.actor_local.load_state_dict(torch.load('solved_checkpoint_actor.pth'))\n",
    "\n",
    "scores = np.zeros(num_agents) \n",
    "while True:\n",
    "    actions = agent.act(states, add_noise=False)   # select an action\n",
    "    env_info = env.step(actions)[brain_name]       # send the action to the environment\n",
    "    next_states = env_info.vector_observations     # get the next state\n",
    "    rewards = env_info.rewards                     # get the reward\n",
    "    dones = env_info.local_done                    # see if episode has finished\n",
    "    states = next_states                           # roll over the state to next time step\n",
    "    scores += rewards                              # update the score\n",
    "    if np.any(dones):                              # exit loop if episode finished\n",
    "        break\n",
    "    \n",
    "print(\"Average Score: {}\".format(np.mean(scores)))\n"
   ]
  },
  {
   "cell_type": "code",
   "execution_count": null,
   "metadata": {},
   "outputs": [],
   "source": [
    "env.close()"
   ]
  },
  {
   "cell_type": "code",
   "execution_count": null,
   "metadata": {},
   "outputs": [],
   "source": [
    "#a = env._get_vis_obs_shape()\n",
    "#obs = env.step(action)\n",
    "#obs[0][:,:,3:6].shape\n",
    "#show_image(obs[0][:,:,0:3])\n",
    "#show_image(obs[0][:,:,3:6])\n",
    "#show_image(obs[0][:,:,6:9])\n",
    "#show_image(obs[0][:,:,9:12])"
   ]
  },
  {
   "cell_type": "code",
   "execution_count": null,
   "metadata": {},
   "outputs": [],
   "source": [
    "#See the trained agent in action.\n",
    "\n",
    "for i in range(10):\n",
    "    state = env.reset()\n",
    "    scores = np.zeros(num_agents) \n",
    "    while True:\n",
    "        actions = np.clip(np.random.normal(size=(2,)), -1, 1)\n",
    "        next_state, reward, done, _ = env.step(actions)       # send the action to the environment\n",
    "        scores += reward                              # update the score\n",
    "        if done:                              # exit loop if episode finished\n",
    "            break\n",
    "    \n",
    "    print(\"Average Score: {}\".format(np.mean(scores)))\n"
   ]
  },
  {
   "cell_type": "code",
   "execution_count": null,
   "metadata": {},
   "outputs": [],
   "source": [
    "\n",
    "def show_image(img):\n",
    "    def scale_lumininance(img):\n",
    "        return np.dot(img[...,:3], [0.299, 0.587, 0.114])\n",
    "\n",
    "    def normalize(img):\n",
    "        return img / 255\n",
    "\n",
    "    img = scale_lumininance(img)\n",
    "    img = normalize(img)\n",
    "\n",
    "    plt.figure(figsize=(12,8))\n",
    "    plt.imshow(img, cmap=plt.get_cmap('gray'))\n",
    "    plt.axis('off')\n",
    "    plt.show()\n",
    "\n"
   ]
  }
 ],
 "metadata": {
  "kernelspec": {
   "display_name": "unity",
   "language": "python",
   "name": "unity"
  },
  "language_info": {
   "codemirror_mode": {
    "name": "ipython",
    "version": 3
   },
   "file_extension": ".py",
   "mimetype": "text/x-python",
   "name": "python",
   "nbconvert_exporter": "python",
   "pygments_lexer": "ipython3",
   "version": "3.6.13"
  }
 },
 "nbformat": 4,
 "nbformat_minor": 2
}
