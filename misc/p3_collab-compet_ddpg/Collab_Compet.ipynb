{
 "cells": [
  {
   "cell_type": "markdown",
   "metadata": {},
   "source": [
    "# Collaboration and Competition\n"
   ]
  },
  {
   "cell_type": "code",
   "execution_count": 1,
   "metadata": {
    "scrolled": true
   },
   "outputs": [],
   "source": [
    "import numpy as np\n",
    "import matplotlib.pyplot as plt\n",
    "import torch\n",
    "\n",
    "from unityagents import UnityEnvironment\n",
    "from agent import Agent\n",
    "from ddpg_learning import ddpg"
   ]
  },
  {
   "cell_type": "code",
   "execution_count": 2,
   "metadata": {},
   "outputs": [
    {
     "name": "stderr",
     "output_type": "stream",
     "text": [
      "INFO:unityagents:\n",
      "'Academy' started successfully!\n",
      "Unity Academy name: Academy\n",
      "        Number of Brains: 1\n",
      "        Number of External Brains : 1\n",
      "        Lesson number : 0\n",
      "        Reset Parameters :\n",
      "\t\t\n",
      "Unity brain name: TennisBrain\n",
      "        Number of Visual Observations (per agent): 0\n",
      "        Vector Observation space type: continuous\n",
      "        Vector Observation space size (per agent): 8\n",
      "        Number of stacked Vector Observation: 3\n",
      "        Vector Action space type: continuous\n",
      "        Vector Action space size (per agent): 2\n",
      "        Vector Action descriptions: , \n"
     ]
    }
   ],
   "source": [
    "# Initialize the Environment\n",
    "env = UnityEnvironment(file_name=\"Tennis.app\")\n",
    "\n",
    "# Get the default brain\n",
    "brain_name = env.brain_names[0]\n",
    "brain = env.brains[brain_name]\n",
    "\n",
    "# Reset the environment\n",
    "env_info = env.reset(train_mode=True)[brain_name]\n",
    "\n",
    "# Get the action size\n",
    "action_size = brain.vector_action_space_size\n",
    "\n",
    "# Get the state size\n",
    "state_size = len(env_info.vector_observations[0])\n",
    "\n",
    "# Get number of agents\n",
    "num_agents = len(env_info.agents)\n"
   ]
  },
  {
   "cell_type": "code",
   "execution_count": 3,
   "metadata": {},
   "outputs": [],
   "source": [
    "#Initialize the Agent with given hyperparameters\n",
    "\n",
    "BUFFER_SIZE = int(1e5)  # replay buffer size\n",
    "BATCH_SIZE = 256       # batch size\n",
    "GAMMA = 0.99            # discount factor\n",
    "TAU = 1e-3              # for soft update of target parameters\n",
    "LR_ACTOR = 1e-4         # learning rate of the actor\n",
    "LR_CRITIC = 1e-3        # learning rate of the critic\n",
    "UPDATE_EVERY = 1        # how often to update the network\n",
    "\n",
    "device = torch.device(\"cuda:0\" if torch.cuda.is_available() else \"cpu\") #Torch device to use\n",
    "\n",
    "agent = Agent(state_size=state_size,\n",
    "              action_size=action_size,\n",
    "              num_agents=num_agents,\n",
    "              buffer_size=BUFFER_SIZE,\n",
    "              batch_size=BATCH_SIZE,\n",
    "              gamma=GAMMA,\n",
    "              tau=TAU,\n",
    "              learning_rate_actor=LR_ACTOR,\n",
    "              learning_rate_critic=LR_CRITIC,\n",
    "              device=device,\n",
    "              update_every=UPDATE_EVERY,\n",
    "              random_seed=42)\n"
   ]
  },
  {
   "cell_type": "code",
   "execution_count": 4,
   "metadata": {},
   "outputs": [
    {
     "name": "stdout",
     "output_type": "stream",
     "text": [
      "Episode 100\tAverage Score: 0.01\tMax Score: 0.00\n",
      "total timesteps: 1644\n",
      "Episode 200\tAverage Score: 0.01\tMax Score: 0.00\n",
      "total timesteps: 3219\n",
      "Episode 300\tAverage Score: 0.00\tMax Score: 0.00\n",
      "total timesteps: 4647\n",
      "Episode 400\tAverage Score: 0.00\tMax Score: 0.00\n",
      "total timesteps: 6067\n",
      "Episode 500\tAverage Score: 0.00\tMax Score: 0.00\n",
      "total timesteps: 7486\n",
      "Episode 600\tAverage Score: 0.00\tMax Score: 0.00\n",
      "total timesteps: 8914\n",
      "Episode 700\tAverage Score: 0.00\tMax Score: 0.00\n",
      "total timesteps: 10338\n",
      "Episode 800\tAverage Score: 0.00\tMax Score: 0.00\n",
      "total timesteps: 11774\n",
      "Episode 900\tAverage Score: 0.00\tMax Score: 0.00\n",
      "total timesteps: 13242\n",
      "Episode 1000\tAverage Score: 0.04\tMax Score: 0.10\n",
      "total timesteps: 15577\n",
      "Episode 1100\tAverage Score: 0.10\tMax Score: 0.20\n",
      "total timesteps: 19416\n",
      "Episode 1200\tAverage Score: 0.13\tMax Score: 0.10\n",
      "total timesteps: 24951\n",
      "Episode 1300\tAverage Score: 0.14\tMax Score: 0.10\n",
      "total timesteps: 31514\n",
      "Episode 1400\tAverage Score: 0.25\tMax Score: 0.30\n",
      "total timesteps: 42181\n",
      "Episode 1500\tAverage Score: 0.23\tMax Score: 0.50\n",
      "total timesteps: 52030\n",
      "Episode 1600\tAverage Score: 0.49\tMax Score: 0.60\n",
      "total timesteps: 71309\n",
      "Episode 1604\tAverage Score: 0.50\tMax Score: 1.20\n",
      "Environment solved in 1504 episodes!\tAverage Score: 0.50\n"
     ]
    }
   ],
   "source": [
    "# Train the agent\n",
    "\n",
    "AVERAGE_SCORE_SOLVED=0.5\n",
    "\n",
    "scores, num_episodes_solved = ddpg(env=env,\n",
    "                                   agent=agent,\n",
    "                                   num_agents=num_agents,\n",
    "                                   average_score_solved=AVERAGE_SCORE_SOLVED)\n"
   ]
  },
  {
   "cell_type": "code",
   "execution_count": 5,
   "metadata": {},
   "outputs": [
    {
     "data": {
      "image/png": "[encoded data removed]",
      "text/plain": [
       "<Figure size 432x288 with 1 Axes>"
      ]
     },
     "metadata": {
      "needs_background": "light"
     },
     "output_type": "display_data"
    }
   ],
   "source": [
    "#Plot the training session (scores per episode averaged across all agents)\n",
    "\n",
    "def plot_scores(scores):\n",
    "    plt.plot(scores, color='royalblue')\n",
    "    plt.title('Scores per episode')\n",
    "    plt.ylabel('score')\n",
    "    plt.xlabel('episode #')\n",
    "    plt.show()\n",
    "    \n",
    "plot_scores(scores)\n"
   ]
  },
  {
   "cell_type": "code",
   "execution_count": 6,
   "metadata": {},
   "outputs": [
    {
     "name": "stdout",
     "output_type": "stream",
     "text": [
      "Average Score: 2.600000038743019\n"
     ]
    }
   ],
   "source": [
    "#See the trained agent in action.\n",
    "\n",
    "env_info = env.reset(train_mode=False)[brain_name] # reset the environment\n",
    "states = env_info.vector_observations              # get the current state\n",
    "\n",
    "#Uncomment these lines to use a saved checkpoint:\n",
    "#agent = Agent(state_size=state_size,\n",
    "#              action_size=action_size,\n",
    "#              num_agents=num_agents,\n",
    "#              buffer_size=BUFFER_SIZE,\n",
    "#              batch_size=BATCH_SIZE,\n",
    "#              gamma=GAMMA,\n",
    "#              tau=TAU,\n",
    "#              learning_rate_actor=LR_ACTOR,\n",
    "#              learning_rate_critic=LR_CRITIC,\n",
    "#              device=device,\n",
    "#              update_every=UPDATE_EVERY,\n",
    "#              random_seed=42)\n",
    "#agent.actor_local.load_state_dict(torch.load('solved_checkpoint_actor.pth'))\n",
    "\n",
    "scores = np.zeros(num_agents) \n",
    "while True:\n",
    "    actions = agent.act(states, add_noise=False)   # select an action\n",
    "    env_info = env.step(actions)[brain_name]       # send the action to the environment\n",
    "    next_states = env_info.vector_observations     # get the next state\n",
    "    rewards = env_info.rewards                     # get the reward\n",
    "    dones = env_info.local_done                    # see if episode has finished\n",
    "    states = next_states                           # roll over the state to next time step\n",
    "    scores += rewards                              # update the score\n",
    "    if np.any(dones):                              # exit loop if episode finished\n",
    "        break\n",
    "    \n",
    "print(\"Average Score: {}\".format(np.mean(scores)))\n"
   ]
  },
  {
   "cell_type": "code",
   "execution_count": 7,
   "metadata": {},
   "outputs": [
    {
     "data": {
      "text/plain": [
       "array([2.60000004, 2.60000004])"
      ]
     },
     "execution_count": 7,
     "metadata": {},
     "output_type": "execute_result"
    }
   ],
   "source": [
    "scores\n"
   ]
  },
  {
   "cell_type": "code",
   "execution_count": null,
   "metadata": {},
   "outputs": [],
   "source": [
    "env.close()"
   ]
  },
  {
   "cell_type": "code",
   "execution_count": null,
   "metadata": {},
   "outputs": [],
   "source": []
  },
  {
   "cell_type": "code",
   "execution_count": null,
   "metadata": {},
   "outputs": [],
   "source": [
    "##\n",
    "#batch size (smaller?) - (remove batch norm?)\n",
    "#buffer size 20-30k?\n",
    "#update less\n",
    "\n",
    "#weight decay?\n",
    "#smaller model - no falloff?\n",
    "#reduce model size more\n",
    "#learning rate \n",
    "#noise\n",
    "\n",
    "#use 2 agents (maddgp)"
   ]
  },
  {
   "cell_type": "code",
   "execution_count": null,
   "metadata": {},
   "outputs": [],
   "source": []
  },
  {
   "cell_type": "markdown",
   "metadata": {},
   "source": [
    "(64,32)(64,32,16)\n",
    "BUFFER_SIZE = int(1e5)  # replay buffer size\n",
    "BATCH_SIZE = 256       # batch size\n",
    "GAMMA = 0.99            # discount factor\n",
    "TAU = 1e-3              # for soft update of target parameters\n",
    "LR_ACTOR = 1e-4         # learning rate of the actor\n",
    "LR_CRITIC = 1e-3        # learning rate of the critic\n",
    "UPDATE_EVERY = 1        # how often to update the network\n",
    "\n",
    "Episode 100\tAverage Score: 0.00\tMax Score: 0.00\n",
    "Episode 200\tAverage Score: 0.00\tMax Score: 0.00\n",
    "Episode 300\tAverage Score: 0.00\tMax Score: 0.00\n",
    "Episode 400\tAverage Score: 0.00\tMax Score: 0.00\n",
    "Episode 500\tAverage Score: 0.00\tMax Score: 0.00\n",
    "Episode 600\tAverage Score: 0.00\tMax Score: 0.00\n",
    "Episode 700\tAverage Score: 0.00\tMax Score: 0.00\n",
    "Episode 800\tAverage Score: 0.00\tMax Score: 0.00\n",
    "Episode 900\tAverage Score: 0.00\tMax Score: 0.00\n",
    "Episode 1000\tAverage Score: 0.00\tMax Score: 0.00\n",
    "Episode 1100\tAverage Score: 0.01\tMax Score: 0.10\n",
    "Episode 1200\tAverage Score: 0.05\tMax Score: 0.10\n",
    "Episode 1300\tAverage Score: 0.14\tMax Score: 0.10\n",
    "Episode 1400\tAverage Score: 0.22\tMax Score: 1.30\n",
    "Episode 1500\tAverage Score: 0.43\tMax Score: 0.20\n",
    "Episode 1597\tAverage Score: 0.51\tMax Score: 2.50\n",
    "Environment solved in 1497 episodes!\tAverage Score: 0.51\n",
    "\n",
    "Environment solved in 1268 episodes!\tAverage Score: 0.51\n",
    "    \n",
    "    Episode 1000\tAverage Score: 0.00\tMax Score: 0.00\n",
    "total timesteps: 14672\n",
    "Episode 1100\tAverage Score: 0.01\tMax Score: 0.00\n",
    "total timesteps: 16220\n",
    "Episode 1200\tAverage Score: 0.04\tMax Score: 0.00\n",
    "total timesteps: 18318\n",
    "Episode 1300\tAverage Score: 0.02\tMax Score: 0.10\n",
    "total timesteps: 20249\n",
    "Episode 1400\tAverage Score: 0.08\tMax Score: 0.10\n",
    "total timesteps: 23950\n",
    "Episode 1500\tAverage Score: 0.13\tMax Score: 0.10\n",
    "total timesteps: 29818\n",
    "Episode 1600\tAverage Score: 0.22\tMax Score: 0.10\n",
    "total timesteps: 39271\n",
    "Episode 1700\tAverage Score: 0.21\tMax Score: 0.10\n",
    "total timesteps: 47980\n",
    "Episode 1800\tAverage Score: 0.22\tMax Score: 0.30\n",
    "total timesteps: 56819\n",
    "Episode 1900\tAverage Score: 0.43\tMax Score: 1.50\n",
    "total timesteps: 73905\n",
    "Episode 1918\tAverage Score: 0.50\tMax Score: 2.60\n",
    "Environment solved in 1818 episodes!\tAverage Score: 0.50\n",
    "\n",
    "Episode 1000\tAverage Score: 0.04\tMax Score: 0.10\n",
    "total timesteps: 15577\n",
    "Episode 1100\tAverage Score: 0.10\tMax Score: 0.20\n",
    "total timesteps: 19416\n",
    "Episode 1200\tAverage Score: 0.13\tMax Score: 0.10\n",
    "total timesteps: 24951\n",
    "Episode 1300\tAverage Score: 0.14\tMax Score: 0.10\n",
    "total timesteps: 31514\n",
    "Episode 1400\tAverage Score: 0.25\tMax Score: 0.30\n",
    "total timesteps: 42181\n",
    "Episode 1500\tAverage Score: 0.23\tMax Score: 0.50\n",
    "total timesteps: 52030\n",
    "Episode 1600\tAverage Score: 0.49\tMax Score: 0.60\n",
    "total timesteps: 71309\n",
    "Episode 1604\tAverage Score: 0.50\tMax Score: 1.20\n",
    "Environment solved in 1504 episodes!\tAverage Score: 0.50"
   ]
  },
  {
   "cell_type": "markdown",
   "metadata": {},
   "source": [
    "(64,32)(64,32,16)\n",
    "BUFFER_SIZE = int(1e4)  # replay buffer size\n",
    "BATCH_SIZE = 1024       # batch size\n",
    "GAMMA = 0.99            # discount factor\n",
    "TAU = 1e-3              # for soft update of target parameters\n",
    "LR_ACTOR = 1e-4         # learning rate of the actor\n",
    "LR_CRITIC = 1e-3        # learning rate of the critic\n",
    "UPDATE_EVERY = 1        # how often to update the network\n",
    "\n",
    "Episode 100\tAverage Score: 0.01\tMax Score: 0.00\n",
    "Episode 200\tAverage Score: 0.00\tMax Score: 0.00\n",
    "Episode 300\tAverage Score: 0.01\tMax Score: 0.19\n",
    "Episode 400\tAverage Score: 0.01\tMax Score: 0.00\n",
    "Episode 500\tAverage Score: 0.00\tMax Score: 0.00\n",
    "Episode 600\tAverage Score: 0.02\tMax Score: 0.10\n",
    "Episode 700\tAverage Score: 0.05\tMax Score: 0.10\n",
    "Episode 800\tAverage Score: 0.05\tMax Score: 0.00\n",
    "Episode 900\tAverage Score: 0.00\tMax Score: 0.00\n",
    "Episode 1000\tAverage Score: 0.03\tMax Score: 0.10\n",
    "Episode 1100\tAverage Score: 0.12\tMax Score: 0.10\n",
    "Episode 1200\tAverage Score: 0.16\tMax Score: 0.20\n",
    "Episode 1300\tAverage Score: 0.21\tMax Score: 0.10\n",
    "Episode 1400\tAverage Score: 0.13\tMax Score: 0.20\n",
    "Episode 1414\tAverage Score: 0.14\tMax Score: 0.10"
   ]
  },
  {
   "cell_type": "markdown",
   "metadata": {},
   "source": [
    "(64,32)(64,32,16)\n",
    "BUFFER_SIZE = int(1e5)  # replay buffer size\n",
    "BATCH_SIZE = 256       # batch size\n",
    "GAMMA = 1.0            # discount factor\n",
    "TAU = 1e-3              # for soft update of target parameters\n",
    "LR_ACTOR = 1e-4         # learning rate of the actor\n",
    "LR_CRITIC = 1e-3        # learning rate of the critic\n",
    "UPDATE_EVERY = 1        # how often to update the network\n",
    "\n",
    "Episode 700\tAverage Score: 0.01\tMax Score: 0.00\n",
    "total timesteps: 10430\n",
    "Episode 800\tAverage Score: 0.04\tMax Score: 0.00\n",
    "total timesteps: 12662\n",
    "Episode 900\tAverage Score: 0.07\tMax Score: 0.20\n",
    "total timesteps: 16227\n",
    "Episode 1000\tAverage Score: 0.11\tMax Score: 0.50\n",
    "total timesteps: 21564\n",
    "Episode 1100\tAverage Score: 0.12\tMax Score: 0.19\n",
    "total timesteps: 26823\n",
    "Episode 1200\tAverage Score: 0.22\tMax Score: 0.00\n",
    "total timesteps: 35772\n",
    "Episode 1300\tAverage Score: 0.47\tMax Score: 0.00\n",
    "total timesteps: 54395\n",
    "Episode 1328\tAverage Score: 0.50\tMax Score: 1.70\n",
    "Environment solved in 1228 episodes!\tAverage Score: 0.50"
   ]
  },
  {
   "cell_type": "code",
   "execution_count": null,
   "metadata": {},
   "outputs": [],
   "source": []
  },
  {
   "cell_type": "code",
   "execution_count": null,
   "metadata": {},
   "outputs": [],
   "source": []
  },
  {
   "cell_type": "code",
   "execution_count": null,
   "metadata": {},
   "outputs": [],
   "source": []
  },
  {
   "cell_type": "code",
   "execution_count": null,
   "metadata": {},
   "outputs": [],
   "source": []
  },
  {
   "cell_type": "code",
   "execution_count": null,
   "metadata": {},
   "outputs": [],
   "source": []
  }
 ],
 "metadata": {
  "kernelspec": {
   "display_name": "drlnd",
   "language": "python",
   "name": "drlnd"
  },
  "language_info": {
   "codemirror_mode": {
    "name": "ipython",
    "version": 3
   },
   "file_extension": ".py",
   "mimetype": "text/x-python",
   "name": "python",
   "nbconvert_exporter": "python",
   "pygments_lexer": "ipython3",
   "version": "3.6.12"
  }
 },
 "nbformat": 4,
 "nbformat_minor": 2
}
