{
 "cells": [
  {
   "cell_type": "markdown",
   "metadata": {},
   "source": [
    "# Crawler"
   ]
  },
  {
   "cell_type": "code",
   "execution_count": 1,
   "metadata": {
    "scrolled": true
   },
   "outputs": [],
   "source": [
    "import numpy as np\n",
    "import matplotlib.pyplot as plt\n",
    "import torch\n",
    "\n",
    "from mlagents_envs.environment import UnityEnvironment\n",
    "from gym_unity.envs import UnityToGymWrapper\n",
    "import numpy as np\n",
    "\n",
    "from agent import Agent\n",
    "from ddpg_learning import ddpg"
   ]
  },
  {
   "cell_type": "code",
   "execution_count": 2,
   "metadata": {},
   "outputs": [
    {
     "name": "stderr",
     "output_type": "stream",
     "text": [
      "2021-02-05 17:43:05 INFO [environment.py:111] Connected to Unity environment with package version 1.7.2-preview and communication version 1.3.0\n",
      "2021-02-05 17:43:05 INFO [environment.py:271] Connected new brain:\n",
      "CrawlerStatic?team=0\n",
      "2021-02-05 17:43:05 WARNING [__init__.py:92] The environment contains multiple observations. You must define allow_multiple_obs=True to receive them all. Otherwise, only the first visual observation (or vector observation ifthere are no visual observations) will be provided in the observation.\n",
      "/Users/sazimov/opt/anaconda3/envs/drlnd2/lib/python3.6/site-packages/gym/logger.py:30: UserWarning: \u001b[33mWARN: Box bound precision lowered by casting to float32\u001b[0m\n",
      "  warnings.warn(colorize('%s: %s'%('WARN', msg % args), 'yellow'))\n"
     ]
    }
   ],
   "source": [
    "# Initialize the Environment\n",
    "unity_env = UnityEnvironment(file_name=\"crawler_static.app\")\n",
    "env = UnityToGymWrapper(unity_env)\n",
    "\n",
    "# Get the action size\n",
    "action_size = 20\n",
    "\n",
    "# Get the state size\n",
    "state_size = 172\n",
    "\n",
    "# Get number of agents\n",
    "num_agents = 1\n"
   ]
  },
  {
   "cell_type": "code",
   "execution_count": 3,
   "metadata": {},
   "outputs": [],
   "source": [
    "#Initialize the Agent with given hyperparameters\n",
    "\n",
    "BUFFER_SIZE = int(2e4)  # replay buffer size\n",
    "BATCH_SIZE = 256       # batch size\n",
    "GAMMA = 0.99            # discount factor\n",
    "TAU = 5e-2              # for soft update of target parameters\n",
    "LR_ACTOR = 5e-4         # learning rate of the actor\n",
    "LR_CRITIC = 5e-3        # learning rate of the critic\n",
    "UPDATE_EVERY = 1        # how often to update the network\n",
    "\n",
    "device = torch.device(\"cuda:0\" if torch.cuda.is_available() else \"cpu\") #Torch device to use\n",
    "\n",
    "agent = Agent(state_size=state_size,\n",
    "              action_size=action_size,\n",
    "              num_agents=num_agents,\n",
    "              buffer_size=BUFFER_SIZE,\n",
    "              batch_size=BATCH_SIZE,\n",
    "              gamma=GAMMA,\n",
    "              tau=TAU,\n",
    "              learning_rate_actor=LR_ACTOR,\n",
    "              learning_rate_critic=LR_CRITIC,\n",
    "              device=device,\n",
    "              update_every=UPDATE_EVERY,\n",
    "              random_seed=42)\n"
   ]
  },
  {
   "cell_type": "code",
   "execution_count": null,
   "metadata": {},
   "outputs": [
    {
     "name": "stdout",
     "output_type": "stream",
     "text": [
      "Episode 100\tAverage Score: -0.77\tScore: -1.00\n",
      "total timesteps: 1800\n",
      "epsilon: 0.9047921471137096\n",
      "Episode 200\tAverage Score: -0.50\tScore: -0.30\n",
      "total timesteps: 4234\n",
      "epsilon: 0.818648829478636\n",
      "Episode 300\tAverage Score: -0.37\tScore: -1.00\n",
      "total timesteps: 10550\n",
      "epsilon: 0.7407070321560997\n",
      "Episode 400\tAverage Score: -0.54\tScore: -0.99\n",
      "total timesteps: 15558\n",
      "epsilon: 0.6701859060067403\n",
      "Episode 424\tAverage Score: -0.52\tScore: -0.98"
     ]
    }
   ],
   "source": [
    "# Train the agent\n",
    "\n",
    "AVERAGE_SCORE_SOLVED=2000\n",
    "EPSILON = 1.0\n",
    "EPSILON_DECAY = .999\n",
    "EPSILON_MIN = 0.01\n",
    "\n",
    "scores, num_episodes_solved = ddpg(env=env,\n",
    "                                   agent=agent,\n",
    "                                   num_agents=num_agents,\n",
    "                                   average_score_solved=AVERAGE_SCORE_SOLVED,\n",
    "                                   epsilon=EPSILON,\n",
    "                                   epsilon_decay=EPSILON_DECAY,\n",
    "                                   epsilon_min=EPSILON_MIN)\n"
   ]
  },
  {
   "cell_type": "code",
   "execution_count": null,
   "metadata": {},
   "outputs": [],
   "source": [
    "#Plot the training session (scores per episode averaged across all agents)\n",
    "\n",
    "def plot_scores(scores):\n",
    "    plt.plot(scores, color='royalblue')\n",
    "    plt.title('Scores per episode')\n",
    "    plt.ylabel('score')\n",
    "    plt.xlabel('episode #')\n",
    "    plt.show()\n",
    "    \n",
    "plot_scores(scores)\n"
   ]
  },
  {
   "cell_type": "code",
   "execution_count": null,
   "metadata": {},
   "outputs": [],
   "source": [
    "#See the trained agent in action.\n",
    "\n",
    "env_info = env.reset(train_mode=False)[brain_name] # reset the environment\n",
    "states = env_info.vector_observations              # get the current state\n",
    "\n",
    "#Uncomment these lines to use a saved checkpoint:\n",
    "#agent = Agent(state_size=state_size,\n",
    "#              action_size=action_size,\n",
    "#              num_agents=num_agents,\n",
    "#              buffer_size=BUFFER_SIZE,\n",
    "#              batch_size=BATCH_SIZE,\n",
    "#              gamma=GAMMA,\n",
    "#              tau=TAU,\n",
    "#              learning_rate_actor=LR_ACTOR,\n",
    "#              learning_rate_critic=LR_CRITIC,\n",
    "#              device=device,\n",
    "#              update_every=UPDATE_EVERY,\n",
    "#              random_seed=42)\n",
    "#agent.actor_local.load_state_dict(torch.load('solved_checkpoint_actor.pth'))\n",
    "\n",
    "scores = np.zeros(num_agents) \n",
    "while True:\n",
    "    actions = agent.act(states, add_noise=False)   # select an action\n",
    "    env_info = env.step(actions)[brain_name]       # send the action to the environment\n",
    "    next_states = env_info.vector_observations     # get the next state\n",
    "    rewards = env_info.rewards                     # get the reward\n",
    "    dones = env_info.local_done                    # see if episode has finished\n",
    "    states = next_states                           # roll over the state to next time step\n",
    "    scores += rewards                              # update the score\n",
    "    if np.any(dones):                              # exit loop if episode finished\n",
    "        break\n",
    "    \n",
    "print(\"Average Score: {}\".format(np.mean(scores)))\n"
   ]
  },
  {
   "cell_type": "code",
   "execution_count": null,
   "metadata": {},
   "outputs": [],
   "source": [
    "env.close()"
   ]
  }
 ],
 "metadata": {
  "kernelspec": {
   "display_name": "drlnd2",
   "language": "python",
   "name": "drlnd2"
  },
  "language_info": {
   "codemirror_mode": {
    "name": "ipython",
    "version": 3
   },
   "file_extension": ".py",
   "mimetype": "text/x-python",
   "name": "python",
   "nbconvert_exporter": "python",
   "pygments_lexer": "ipython3",
   "version": "3.6.12"
  }
 },
 "nbformat": 4,
 "nbformat_minor": 2
}
