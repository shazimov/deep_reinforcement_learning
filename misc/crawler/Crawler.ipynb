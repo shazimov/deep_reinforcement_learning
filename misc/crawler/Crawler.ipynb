{
 "cells": [
  {
   "cell_type": "markdown",
   "metadata": {},
   "source": [
    "# Crawler"
   ]
  },
  {
   "cell_type": "code",
   "execution_count": null,
   "metadata": {
    "scrolled": true
   },
   "outputs": [],
   "source": [
    "import numpy as np\n",
    "import matplotlib.pyplot as plt\n",
    "import torch\n",
    "\n",
    "from mlagents_envs.environment import UnityEnvironment\n",
    "from gym_unity.envs import UnityToGymWrapper\n",
    "import numpy as np\n",
    "\n",
    "from agent import Agent\n",
    "from ddpg_learning import ddpg"
   ]
  },
  {
   "cell_type": "code",
   "execution_count": null,
   "metadata": {},
   "outputs": [],
   "source": [
    "# Initialize the Environment\n",
    "unity_env = UnityEnvironment(file_name=\"Crawler\\\\UnityEnvironment.app\")\n",
    "env = UnityToGymWrapper(unity_env)\n",
    "\n",
    "# Get the action size\n",
    "action_size = 20\n",
    "\n",
    "# Get the state size\n",
    "state_size = 172\n",
    "\n",
    "# Get number of agents\n",
    "num_agents = 1\n"
   ]
  },
  {
   "cell_type": "code",
   "execution_count": null,
   "metadata": {},
   "outputs": [],
   "source": [
    "torch.cuda.is_available()"
   ]
  },
  {
   "cell_type": "code",
   "execution_count": null,
   "metadata": {},
   "outputs": [],
   "source": [
    "#Initialize the Agent with given hyperparameters\n",
    "\n",
    "BUFFER_SIZE = int(5e5)  # replay buffer size\n",
    "BATCH_SIZE = 128        # batch size\n",
    "GAMMA = 0.99            # discount factor\n",
    "TAU = 0.01              # for soft update of target parameters\n",
    "BETA = 0.4\n",
    "BETA_INCREMENT = 0.000001\n",
    "LR_ACTOR = 1e-4         # learning rate of the actor\n",
    "LR_CRITIC = 1e-3        # learning rate of the critic\n",
    "UPDATE_EVERY = 1        # how often to update the network\n",
    "\n",
    "device = torch.device(\"cuda:0\" if torch.cuda.is_available() else \"cpu\") #Torch device to use\n",
    "\n",
    "agent = Agent(state_size=state_size,\n",
    "              action_size=action_size,\n",
    "              num_agents=num_agents,\n",
    "              buffer_size=BUFFER_SIZE,\n",
    "              batch_size=BATCH_SIZE,\n",
    "              gamma=GAMMA,\n",
    "              tau=TAU,\n",
    "              beta=BETA,\n",
    "              beta_increment=BETA_INCREMENT,\n",
    "              learning_rate_actor=LR_ACTOR,\n",
    "              learning_rate_critic=LR_CRITIC,\n",
    "              device=device,\n",
    "              update_every=UPDATE_EVERY,\n",
    "              random_seed=42)\n",
    "\n",
    "#agent.actor_local.load_state_dict(torch.load('checkpoints\\\\checkpoint_actor_local_1000.pth'))\n",
    "#agent.critic_local.load_state_dict(torch.load('checkpoints\\\\checkpoint_critic_local_1000.pth'))\n",
    "#agent.actor_target.load_state_dict(torch.load('checkpoints\\\\checkpoint_actor_target_1000.pth'))\n",
    "#agent.critic_target.load_state_dict(torch.load('checkpoints\\\\checkpoint_critic_target_1000.pth'))"
   ]
  },
  {
   "cell_type": "code",
   "execution_count": null,
   "metadata": {},
   "outputs": [],
   "source": [
    "# Train the agent\n",
    "\n",
    "AVERAGE_SCORE_SOLVED=2000\n",
    "\n",
    "scores, num_episodes_solved = ddpg(env=env,\n",
    "                                   agent=agent,\n",
    "                                   num_agents=num_agents,\n",
    "                                   average_score_solved=AVERAGE_SCORE_SOLVED)\n"
   ]
  },
  {
   "cell_type": "code",
   "execution_count": null,
   "metadata": {},
   "outputs": [],
   "source": [
    "#Plot the training session (scores per episode averaged across all agents)\n",
    "\n",
    "def plot_scores(scores):\n",
    "    plt.plot(scores, color='royalblue')\n",
    "    plt.title('Scores per episode')\n",
    "    plt.ylabel('score')\n",
    "    plt.xlabel('episode #')\n",
    "    plt.show()\n",
    "    \n",
    "plot_scores(scores)\n"
   ]
  },
  {
   "cell_type": "code",
   "execution_count": null,
   "metadata": {},
   "outputs": [],
   "source": [
    "#See the trained agent in action.\n",
    "\n",
    "env_info = env.reset(train_mode=False)[brain_name] # reset the environment\n",
    "states = env_info.vector_observations              # get the current state\n",
    "\n",
    "#Uncomment these lines to use a saved checkpoint:\n",
    "#agent = Agent(state_size=state_size,\n",
    "#              action_size=action_size,\n",
    "#              num_agents=num_agents,\n",
    "#              buffer_size=BUFFER_SIZE,\n",
    "#              batch_size=BATCH_SIZE,\n",
    "#              gamma=GAMMA,\n",
    "#              tau=TAU,\n",
    "#              learning_rate_actor=LR_ACTOR,\n",
    "#              learning_rate_critic=LR_CRITIC,\n",
    "#              device=device,\n",
    "#              update_every=UPDATE_EVERY,\n",
    "#              random_seed=42)\n",
    "#agent.actor_local.load_state_dict(torch.load('solved_checkpoint_actor.pth'))\n",
    "\n",
    "scores = np.zeros(num_agents) \n",
    "while True:\n",
    "    actions = agent.act(states, add_noise=False)   # select an action\n",
    "    env_info = env.step(actions)[brain_name]       # send the action to the environment\n",
    "    next_states = env_info.vector_observations     # get the next state\n",
    "    rewards = env_info.rewards                     # get the reward\n",
    "    dones = env_info.local_done                    # see if episode has finished\n",
    "    states = next_states                           # roll over the state to next time step\n",
    "    scores += rewards                              # update the score\n",
    "    if np.any(dones):                              # exit loop if episode finished\n",
    "        break\n",
    "    \n",
    "print(\"Average Score: {}\".format(np.mean(scores)))\n"
   ]
  },
  {
   "cell_type": "code",
   "execution_count": null,
   "metadata": {},
   "outputs": [],
   "source": [
    "env.close()"
   ]
  }
 ],
 "metadata": {
  "kernelspec": {
   "display_name": "unity",
   "language": "python",
   "name": "unity"
  },
  "language_info": {
   "codemirror_mode": {
    "name": "ipython",
    "version": 3
   },
   "file_extension": ".py",
   "mimetype": "text/x-python",
   "name": "python",
   "nbconvert_exporter": "python",
   "pygments_lexer": "ipython3",
   "version": "3.6.13"
  }
 },
 "nbformat": 4,
 "nbformat_minor": 2
}
