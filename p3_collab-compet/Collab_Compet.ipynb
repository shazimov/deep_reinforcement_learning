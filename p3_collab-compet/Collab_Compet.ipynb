{
 "cells": [
  {
   "cell_type": "markdown",
   "metadata": {},
   "source": [
    "# Collaboration and Competition\n"
   ]
  },
  {
   "cell_type": "code",
   "execution_count": 1,
   "metadata": {
    "scrolled": true
   },
   "outputs": [],
   "source": [
    "import numpy as np\n",
    "import matplotlib.pyplot as plt\n",
    "import torch\n",
    "\n",
    "from unityagents import UnityEnvironment\n",
    "from agent import MultiAgent, Agent\n",
    "from maddpg_learning import maddpg"
   ]
  },
  {
   "cell_type": "code",
   "execution_count": 2,
   "metadata": {},
   "outputs": [
    {
     "name": "stderr",
     "output_type": "stream",
     "text": [
      "INFO:unityagents:\n",
      "'Academy' started successfully!\n",
      "Unity Academy name: Academy\n",
      "        Number of Brains: 1\n",
      "        Number of External Brains : 1\n",
      "        Lesson number : 0\n",
      "        Reset Parameters :\n",
      "\t\t\n",
      "Unity brain name: TennisBrain\n",
      "        Number of Visual Observations (per agent): 0\n",
      "        Vector Observation space type: continuous\n",
      "        Vector Observation space size (per agent): 8\n",
      "        Number of stacked Vector Observation: 3\n",
      "        Vector Action space type: continuous\n",
      "        Vector Action space size (per agent): 2\n",
      "        Vector Action descriptions: , \n"
     ]
    }
   ],
   "source": [
    "# Initialize the Environment\n",
    "env = UnityEnvironment(file_name=\"Tennis.app\")\n",
    "\n",
    "# Get the default brain\n",
    "brain_name = env.brain_names[0]\n",
    "brain = env.brains[brain_name]\n",
    "\n",
    "# Reset the environment\n",
    "env_info = env.reset(train_mode=True)[brain_name]\n",
    "\n",
    "# Get the action size\n",
    "action_size = brain.vector_action_space_size\n",
    "\n",
    "# Get the state size\n",
    "state_size = len(env_info.vector_observations[0])\n",
    "\n",
    "# Get number of agents\n",
    "num_agents = len(env_info.agents)\n"
   ]
  },
  {
   "cell_type": "code",
   "execution_count": 3,
   "metadata": {},
   "outputs": [],
   "source": [
    "#Initialize the Agent with given hyperparameters\n",
    "\n",
    "BUFFER_SIZE = int(1e5)  # replay buffer size\n",
    "BATCH_SIZE = 256        # batch size\n",
    "GAMMA = 0.99            # discount factor\n",
    "TAU = 5e-2              # for soft update of target parameters\n",
    "LR_ACTOR = 5e-4         # learning rate of the actor\n",
    "LR_CRITIC = 5e-3        # learning rate of the critic\n",
    "WEIGHT_DECAY = 0.0\n",
    "UPDATE_EVERY = 1        # how often to update the network\n",
    "\n",
    "device = torch.device(\"cuda:0\" if torch.cuda.is_available() else \"cpu\") #Torch device to use\n",
    "\n",
    "multi_agent = MultiAgent(state_size=state_size,\n",
    "                        action_size=action_size,\n",
    "                        num_agents=num_agents,\n",
    "                        buffer_size=BUFFER_SIZE,\n",
    "                        batch_size=BATCH_SIZE,\n",
    "                        gamma=GAMMA,\n",
    "                        tau=TAU,\n",
    "                        learning_rate_actor=LR_ACTOR,\n",
    "                        learning_rate_critic=LR_CRITIC,\n",
    "                        weight_decay=WEIGHT_DECAY,\n",
    "                        device=device,\n",
    "                        update_every=UPDATE_EVERY,\n",
    "                        random_seed=42)"
   ]
  },
  {
   "cell_type": "code",
   "execution_count": 4,
   "metadata": {},
   "outputs": [
    {
     "name": "stdout",
     "output_type": "stream",
     "text": [
      "Episode 100\tAverage Score: 0.0039\tMax Score: 0.00\n",
      "total timesteps: 1488\n",
      "noise_reduction: 1.7234700683890456\n",
      "Episode 200\tAverage Score: 0.0428\tMax Score: 0.10\n",
      "total timesteps: 3800\n",
      "noise_reduction: 1.367696830205545\n",
      "Episode 300\tAverage Score: 0.0936\tMax Score: 0.10\n",
      "total timesteps: 7813\n",
      "noise_reduction: 0.9155851709335942\n",
      "Episode 400\tAverage Score: 0.1261\tMax Score: 0.39\n",
      "total timesteps: 12898\n",
      "noise_reduction: 0.5506161727547662\n",
      "Episode 500\tAverage Score: 0.2450\tMax Score: 0.10\n",
      "total timesteps: 22850\n",
      "noise_reduction: 0.20352486861754124\n",
      "Episode 600\tAverage Score: 0.2374\tMax Score: 0.09\n",
      "total timesteps: 32589\n",
      "noise_reduction: 0.07684877299917996\n",
      "Episode 700\tAverage Score: 0.2619\tMax Score: 0.10\n",
      "total timesteps: 43374\n",
      "noise_reduction: 0.0261352656092265\n",
      "Episode 800\tAverage Score: 0.4544\tMax Score: 0.30\n",
      "total timesteps: 61508\n",
      "noise_reduction: 0.004262240235943729\n",
      "Episode 810\tAverage Score: 0.5055\tMax Score: 1.00\n",
      "Environment solved in 710 episodes!\tAverage Score: 0.51\n"
     ]
    }
   ],
   "source": [
    "# Train the agent\n",
    "\n",
    "AVERAGE_SCORE_SOLVED=0.5\n",
    "\n",
    "scores, num_episodes_solved = maddpg(env=env,\n",
    "                                     agent=multi_agent,\n",
    "                                     num_agents=num_agents,\n",
    "                                     average_score_solved=AVERAGE_SCORE_SOLVED)\n"
   ]
  },
  {
   "cell_type": "code",
   "execution_count": 5,
   "metadata": {},
   "outputs": [
    {
     "data": {
      "image/png": "[encoded data removed]",
      "text/plain": [
       "<Figure size 432x288 with 1 Axes>"
      ]
     },
     "metadata": {
      "needs_background": "light"
     },
     "output_type": "display_data"
    }
   ],
   "source": [
    "#Plot the training session (scores per episode averaged across all agents)\n",
    "\n",
    "def plot_scores(scores):\n",
    "    plt.plot(scores, color='royalblue')\n",
    "    plt.title('Scores per episode')\n",
    "    plt.ylabel('score')\n",
    "    plt.xlabel('episode #')\n",
    "    plt.show()\n",
    "    \n",
    "plot_scores(scores)\n"
   ]
  },
  {
   "cell_type": "code",
   "execution_count": 10,
   "metadata": {},
   "outputs": [
    {
     "name": "stdout",
     "output_type": "stream",
     "text": [
      "Max Score: 2.600000038743019\n"
     ]
    }
   ],
   "source": [
    "#See the trained agent in action.\n",
    "agent = multi_agent\n",
    "\n",
    "env_info = env.reset(train_mode=False)[brain_name] # reset the environment\n",
    "states = env_info.vector_observations              # get the current state\n",
    "\n",
    "#Uncomment these lines to use a saved checkpoint:\n",
    "#agent = Agent(state_size=state_size,\n",
    "#              action_size=action_size,\n",
    "#              num_agents=num_agents,\n",
    "#              buffer_size=BUFFER_SIZE,\n",
    "#              batch_size=BATCH_SIZE,\n",
    "#              gamma=GAMMA,\n",
    "#              tau=TAU,\n",
    "#              learning_rate_actor=LR_ACTOR,\n",
    "#              learning_rate_critic=LR_CRITIC,\n",
    "#              device=device,\n",
    "#              update_every=UPDATE_EVERY,\n",
    "#              random_seed=42)\n",
    "#agent.actor_local.load_state_dict(torch.load('solved_checkpoint_actor.pth'))\n",
    "\n",
    "scores = np.zeros(num_agents) \n",
    "while True:\n",
    "    actions = agent.act(states, 0.0, add_noise=False)   # select an action\n",
    "    env_info = env.step(actions)[brain_name]       # send the action to the environment\n",
    "    next_states = env_info.vector_observations     # get the next state\n",
    "    rewards = env_info.rewards                     # get the reward\n",
    "    dones = env_info.local_done                    # see if episode has finished\n",
    "    states = next_states                           # roll over the state to next time step\n",
    "    scores += rewards                              # update the score\n",
    "    if np.any(dones):                              # exit loop if episode finished\n",
    "        break\n",
    "    \n",
    "print(\"Max Score: {}\".format(np.max(scores)))\n"
   ]
  },
  {
   "cell_type": "code",
   "execution_count": null,
   "metadata": {},
   "outputs": [],
   "source": []
  },
  {
   "cell_type": "code",
   "execution_count": 11,
   "metadata": {},
   "outputs": [],
   "source": [
    "env.close()"
   ]
  },
  {
   "cell_type": "code",
   "execution_count": null,
   "metadata": {},
   "outputs": [],
   "source": []
  },
  {
   "cell_type": "code",
   "execution_count": null,
   "metadata": {},
   "outputs": [],
   "source": [
    "##\n",
    "#random movement to start\n",
    "#batch size (smaller?) - (remove batch norm?)\n",
    "#buffer size 20-30k?\n",
    "#update less\n",
    "\n",
    "#weight decay?\n",
    "#smaller model - no falloff?\n",
    "#reduce model size more\n",
    "#learning rate \n",
    "#noise\n",
    "#weight decay\n",
    "\n",
    "#use 2 agents (maddgp)"
   ]
  },
  {
   "cell_type": "markdown",
   "metadata": {},
   "source": [
    "Episode 100\tAverage Score: 0.0039\tMax Score: 0.00\n",
    "total timesteps: 1488\n",
    "noise_reduction: 1.7234700683890456\n",
    "Episode 200\tAverage Score: 0.0428\tMax Score: 0.10\n",
    "total timesteps: 3800\n",
    "noise_reduction: 1.367696830205545\n",
    "Episode 300\tAverage Score: 0.0936\tMax Score: 0.10\n",
    "total timesteps: 7813\n",
    "noise_reduction: 0.9155851709335942\n",
    "Episode 400\tAverage Score: 0.1261\tMax Score: 0.39\n",
    "total timesteps: 12898\n",
    "noise_reduction: 0.5506161727547662\n",
    "Episode 500\tAverage Score: 0.2450\tMax Score: 0.10\n",
    "total timesteps: 22850\n",
    "noise_reduction: 0.20352486861754124\n",
    "Episode 600\tAverage Score: 0.2374\tMax Score: 0.09\n",
    "total timesteps: 32589\n",
    "noise_reduction: 0.07684877299917996\n",
    "Episode 700\tAverage Score: 0.2619\tMax Score: 0.10\n",
    "total timesteps: 43374\n",
    "noise_reduction: 0.0261352656092265\n",
    "Episode 800\tAverage Score: 0.4544\tMax Score: 0.30\n",
    "total timesteps: 61508\n",
    "noise_reduction: 0.004262240235943729\n",
    "Episode 810\tAverage Score: 0.5055\tMax Score: 1.00\n",
    "Environment solved in 710 episodes!\tAverage Score: 0.51"
   ]
  }
 ],
 "metadata": {
  "kernelspec": {
   "display_name": "drlnd",
   "language": "python",
   "name": "drlnd"
  },
  "language_info": {
   "codemirror_mode": {
    "name": "ipython",
    "version": 3
   },
   "file_extension": ".py",
   "mimetype": "text/x-python",
   "name": "python",
   "nbconvert_exporter": "python",
   "pygments_lexer": "ipython3",
   "version": "3.6.12"
  }
 },
 "nbformat": 4,
 "nbformat_minor": 2
}
