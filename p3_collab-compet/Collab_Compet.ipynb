{
 "cells": [
  {
   "cell_type": "markdown",
   "metadata": {},
   "source": [
    "# Collaboration and Competition\n"
   ]
  },
  {
   "cell_type": "code",
   "execution_count": null,
   "metadata": {
    "scrolled": true
   },
   "outputs": [],
   "source": [
    "import numpy as np\n",
    "import matplotlib.pyplot as plt\n",
    "import torch\n",
    "\n",
    "from unityagents import UnityEnvironment\n",
    "from agent import MultiAgent, Agent\n",
    "from maddpg_learning import maddpg\n",
    "from utils import plot_scores"
   ]
  },
  {
   "cell_type": "code",
   "execution_count": null,
   "metadata": {},
   "outputs": [],
   "source": [
    "# Initialize the Environment\n",
    "env = UnityEnvironment(file_name=\"Tennis.app\")\n",
    "\n",
    "# Get the default brain\n",
    "brain_name = env.brain_names[0]\n",
    "brain = env.brains[brain_name]\n",
    "\n",
    "# Reset the environment\n",
    "env_info = env.reset(train_mode=True)[brain_name]\n",
    "\n",
    "# Get the action size\n",
    "action_size = brain.vector_action_space_size\n",
    "\n",
    "# Get the state size\n",
    "state_size = len(env_info.vector_observations[0])\n",
    "\n",
    "# Get number of agents\n",
    "num_agents = len(env_info.agents)\n"
   ]
  },
  {
   "cell_type": "code",
   "execution_count": null,
   "metadata": {},
   "outputs": [],
   "source": [
    "#Set hyperparameters\n",
    "\n",
    "BUFFER_SIZE = int(1e5)    # replay buffer size\n",
    "BATCH_SIZE = 256          # batch size\n",
    "GAMMA = 0.99              # discount factor\n",
    "TAU = 5e-2                # for soft update of target parameters\n",
    "LR_ACTOR = 5e-4           # learning rate of the actor\n",
    "LR_CRITIC = 5e-3          # learning rate of the critic\n",
    "WEIGHT_DECAY = 0          # weight decay for the optimizers\n",
    "UPDATE_EVERY = 1          # how often to update the network\n",
    "\n",
    "AVERAGE_SCORE_SOLVED=0.5  # average score (over 100 consecutive episodes) needed to solve the environment\n",
    "EPSILON = 2               # for scaling the noise added to the actions (exploration)\n",
    "EPSILON_DECAY = 0.9999    # for decaying the noise during training\n",
    "\n",
    "device = torch.device(\"cuda:0\" if torch.cuda.is_available() else \"cpu\") #Torch device to use\n"
   ]
  },
  {
   "cell_type": "code",
   "execution_count": null,
   "metadata": {},
   "outputs": [],
   "source": [
    "#Initialize MADDPG agent and train it\n",
    "\n",
    "agent = MultiAgent(state_size=state_size,\n",
    "                        action_size=action_size,\n",
    "                        num_agents=num_agents,\n",
    "                        buffer_size=BUFFER_SIZE,\n",
    "                        batch_size=BATCH_SIZE,\n",
    "                        gamma=GAMMA,\n",
    "                        tau=TAU,\n",
    "                        learning_rate_actor=LR_ACTOR,\n",
    "                        learning_rate_critic=LR_CRITIC,\n",
    "                        weight_decay=WEIGHT_DECAY,\n",
    "                        device=device,\n",
    "                        update_every=UPDATE_EVERY,\n",
    "                        random_seed=42)\n",
    "\n",
    "scores, rolling_average_scores, num_episodes_solved = maddpg(env=env,\n",
    "                                                             agent=agent,\n",
    "                                                             num_agents=num_agents,\n",
    "                                                             average_score_solved=AVERAGE_SCORE_SOLVED,\n",
    "                                                             epsilon=EPSILON,\n",
    "                                                             epsilon_decay=EPSILON_DECAY)\n"
   ]
  },
  {
   "cell_type": "code",
   "execution_count": null,
   "metadata": {},
   "outputs": [],
   "source": [
    "#Plot the training session - scores per episode averaged across all agents and the rolling average\n",
    "\n",
    "plot_scores(scores, title='scores per episode', y_label='score', x_label='episode #')\n",
    "plot_scores(rolling_average_scores, title='scores rolling average', y_label='average score', x_label='episode #')"
   ]
  },
  {
   "cell_type": "code",
   "execution_count": null,
   "metadata": {},
   "outputs": [],
   "source": [
    "#See the trained agent in action.\n",
    "\n",
    "#Uncomment these lines to use a saved checkpoint:\n",
    "#agent = MultiAgent(state_size=state_size,\n",
    "#                        action_size=action_size,\n",
    "#                        num_agents=num_agents,\n",
    "#                        buffer_size=BUFFER_SIZE,\n",
    "#                        batch_size=BATCH_SIZE,\n",
    "#                        gamma=GAMMA,\n",
    "#                        tau=TAU,\n",
    "#                        learning_rate_actor=LR_ACTOR,\n",
    "#                        learning_rate_critic=LR_CRITIC,\n",
    "#                        weight_decay=WEIGHT_DECAY,\n",
    "#                        device=device,\n",
    "#                        update_every=UPDATE_EVERY,\n",
    "#                        random_seed=42)\n",
    "#agent.load_actor_checkpoints()\n",
    "\n",
    "env_info = env.reset(train_mode=False)[brain_name] # reset the environment\n",
    "states = env_info.vector_observations              # get the current state\n",
    "\n",
    "scores = np.zeros(num_agents) \n",
    "while True:\n",
    "    actions = agent.act(states, add_noise=False)   # select an action\n",
    "    env_info = env.step(actions)[brain_name]       # send the action to the environment\n",
    "    next_states = env_info.vector_observations     # get the next state\n",
    "    rewards = env_info.rewards                     # get the reward\n",
    "    dones = env_info.local_done                    # see if episode has finished\n",
    "    states = next_states                           # roll over the state to next time step\n",
    "    scores += rewards                              # update the score\n",
    "    if np.any(dones):                              # exit loop if episode finished\n",
    "        break\n",
    "    \n",
    "print(\"Max Score: {}\".format(np.max(scores)))\n"
   ]
  },
  {
   "cell_type": "code",
   "execution_count": null,
   "metadata": {},
   "outputs": [],
   "source": []
  },
  {
   "cell_type": "code",
   "execution_count": null,
   "metadata": {},
   "outputs": [],
   "source": [
    "env.close()"
   ]
  },
  {
   "cell_type": "code",
   "execution_count": null,
   "metadata": {},
   "outputs": [],
   "source": []
  },
  {
   "cell_type": "code",
   "execution_count": null,
   "metadata": {},
   "outputs": [],
   "source": [
    "##\n",
    "#random movement to start\n",
    "#batch size (smaller?) - (remove batch norm?)\n",
    "#buffer size 20-30k?\n",
    "#update less\n",
    "\n",
    "#weight decay?\n",
    "#smaller model - no falloff?\n",
    "#reduce model size more\n",
    "#learning rate \n",
    "#noise\n",
    "#weight decay\n",
    "\n",
    "#use 2 agents (maddgp)"
   ]
  },
  {
   "cell_type": "markdown",
   "metadata": {},
   "source": [
    "Episode 100\tAverage Score: 0.0039\tMax Score: 0.00\n",
    "total timesteps: 1488\n",
    "noise_reduction: 1.7234700683890456\n",
    "Episode 200\tAverage Score: 0.0428\tMax Score: 0.10\n",
    "total timesteps: 3800\n",
    "noise_reduction: 1.367696830205545\n",
    "Episode 300\tAverage Score: 0.0936\tMax Score: 0.10\n",
    "total timesteps: 7813\n",
    "noise_reduction: 0.9155851709335942\n",
    "Episode 400\tAverage Score: 0.1261\tMax Score: 0.39\n",
    "total timesteps: 12898\n",
    "noise_reduction: 0.5506161727547662\n",
    "Episode 500\tAverage Score: 0.2450\tMax Score: 0.10\n",
    "total timesteps: 22850\n",
    "noise_reduction: 0.20352486861754124\n",
    "Episode 600\tAverage Score: 0.2374\tMax Score: 0.09\n",
    "total timesteps: 32589\n",
    "noise_reduction: 0.07684877299917996\n",
    "Episode 700\tAverage Score: 0.2619\tMax Score: 0.10\n",
    "total timesteps: 43374\n",
    "noise_reduction: 0.0261352656092265\n",
    "Episode 800\tAverage Score: 0.4544\tMax Score: 0.30\n",
    "total timesteps: 61508\n",
    "noise_reduction: 0.004262240235943729\n",
    "Episode 810\tAverage Score: 0.5055\tMax Score: 1.00\n",
    "Environment solved in 710 episodes!\tAverage Score: 0.51"
   ]
  },
  {
   "cell_type": "markdown",
   "metadata": {},
   "source": [
    "Episode 100\tAverage Score: 0.0188\tScores: [ 0.10 | 0.09 ]\n",
    "total timesteps: 1638\n",
    "epsilon: 1.6978096684759327\n",
    "Episode 200\tAverage Score: 0.0287\tScores: [ 0.00 | -0.01 ]\n",
    "total timesteps: 3441\n",
    "epsilon: 1.4176916841810199\n",
    "Episode 300\tAverage Score: 0.0505\tScores: [ 0.10 | -0.01 ]\n",
    "total timesteps: 5991\n",
    "epsilon: 1.0985786671929574\n",
    "Episode 400\tAverage Score: 0.0818\tScores: [ 0.20 | 0.09 ]]\n",
    "total timesteps: 9622\n",
    "epsilon: 0.7640661325385036\n",
    "Episode 500\tAverage Score: 0.1106\tScores: [ 0.10 | -0.01 ]\n",
    "total timesteps: 14009\n",
    "epsilon: 0.4927157372481189\n",
    "Episode 600\tAverage Score: 0.1346\tScores: [ 0.10 | -0.01 ]\n",
    "total timesteps: 19180\n",
    "epsilon: 0.293772762890878\n",
    "Episode 700\tAverage Score: 0.2181\tScores: [ 0.49 | 0.60 ]]\n",
    "total timesteps: 27362\n",
    "epsilon: 0.12961462702813087\n",
    "Episode 800\tAverage Score: 0.2072\tScores: [ 0.10 | -0.01 ]\n",
    "total timesteps: 35064\n",
    "epsilon: 0.05999895394700727\n",
    "Episode 900\tAverage Score: 0.2005\tScores: [ 0.09 | 0.20 ]]\n",
    "total timesteps: 43423\n",
    "epsilon: 0.026007509677501976\n",
    "Episode 1000\tAverage Score: 0.1947\tScores: [ 0.20 | 0.09 ]\n",
    "total timesteps: 51739\n",
    "epsilon: 0.011321954844337142\n",
    "Episode 1100\tAverage Score: 0.3018\tScores: [ 0.30 | 0.19 ]]\n",
    "total timesteps: 64038\n",
    "epsilon: 0.0033094507802188325\n",
    "Episode 1200\tAverage Score: 0.2549\tScores: [ 0.30 | 0.19 ]]\n",
    "total timesteps: 74290\n",
    "epsilon: 0.0011871209248403853\n",
    "Episode 1300\tAverage Score: 0.2500\tScores: [ 0.10 | 0.09 ]]\n",
    "total timesteps: 84137\n",
    "epsilon: 0.00044342870145495174\n",
    "Episode 1337\tAverage Score: 0.5139\tScores: [ 2.60 | 2.60 ]]\n",
    "Environment solved in 1237 episodes!\tAverage Score: 0.51\tTotal Time: 25 minutes 25 seconds"
   ]
  },
  {
   "cell_type": "code",
   "execution_count": null,
   "metadata": {},
   "outputs": [],
   "source": []
  }
 ],
 "metadata": {
  "kernelspec": {
   "display_name": "drlnd",
   "language": "python",
   "name": "drlnd"
  },
  "language_info": {
   "codemirror_mode": {
    "name": "ipython",
    "version": 3
   },
   "file_extension": ".py",
   "mimetype": "text/x-python",
   "name": "python",
   "nbconvert_exporter": "python",
   "pygments_lexer": "ipython3",
   "version": "3.6.12"
  }
 },
 "nbformat": 4,
 "nbformat_minor": 2
}
