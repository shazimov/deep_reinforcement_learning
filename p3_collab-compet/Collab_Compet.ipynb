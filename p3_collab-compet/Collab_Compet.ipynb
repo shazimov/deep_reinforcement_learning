{
 "cells": [
  {
   "cell_type": "markdown",
   "metadata": {},
   "source": [
    "# Collaboration and Competition\n"
   ]
  },
  {
   "cell_type": "code",
   "execution_count": null,
   "metadata": {
    "scrolled": true
   },
   "outputs": [],
   "source": [
    "import numpy as np\n",
    "import matplotlib.pyplot as plt\n",
    "import torch\n",
    "\n",
    "from unityagents import UnityEnvironment\n",
    "from agent import MultiAgent, Agent\n",
    "from maddpg_learning import maddpg"
   ]
  },
  {
   "cell_type": "code",
   "execution_count": null,
   "metadata": {},
   "outputs": [],
   "source": [
    "# Initialize the Environment\n",
    "env = UnityEnvironment(file_name=\"Tennis.app\")\n",
    "\n",
    "# Get the default brain\n",
    "brain_name = env.brain_names[0]\n",
    "brain = env.brains[brain_name]\n",
    "\n",
    "# Reset the environment\n",
    "env_info = env.reset(train_mode=True)[brain_name]\n",
    "\n",
    "# Get the action size\n",
    "action_size = brain.vector_action_space_size\n",
    "\n",
    "# Get the state size\n",
    "state_size = len(env_info.vector_observations[0])\n",
    "\n",
    "# Get number of agents\n",
    "num_agents = len(env_info.agents)\n"
   ]
  },
  {
   "cell_type": "code",
   "execution_count": null,
   "metadata": {},
   "outputs": [],
   "source": [
    "#Initialize the Agent with given hyperparameters\n",
    "\n",
    "BUFFER_SIZE = int(1e5)  # replay buffer size\n",
    "BATCH_SIZE = 256        # batch size\n",
    "GAMMA = 0.99            # discount factor\n",
    "TAU = 1e-3              # for soft update of target parameters\n",
    "LR_ACTOR = 1e-4         # learning rate of the actor\n",
    "LR_CRITIC = 1e-4        # learning rate of the critic\n",
    "UPDATE_EVERY = 1        # how often to update the network\n",
    "\n",
    "device = torch.device(\"cuda:0\" if torch.cuda.is_available() else \"cpu\") #Torch device to use\n",
    "\n",
    "multi_agent = MultiAgent(state_size=state_size,\n",
    "                        action_size=action_size,\n",
    "                        num_agents=num_agents,\n",
    "                        buffer_size=BUFFER_SIZE,\n",
    "                        batch_size=BATCH_SIZE,\n",
    "                        gamma=GAMMA,\n",
    "                        tau=TAU,\n",
    "                        learning_rate_actor=LR_ACTOR,\n",
    "                        learning_rate_critic=LR_CRITIC,\n",
    "                        device=device,\n",
    "                        update_every=UPDATE_EVERY,\n",
    "                        random_seed=42)"
   ]
  },
  {
   "cell_type": "code",
   "execution_count": null,
   "metadata": {},
   "outputs": [],
   "source": [
    "# Train the agent\n",
    "\n",
    "AVERAGE_SCORE_SOLVED=0.5\n",
    "\n",
    "scores, num_episodes_solved = maddpg(env=env,\n",
    "                                     agent=multi_agent,\n",
    "                                     num_agents=num_agents,\n",
    "                                     average_score_solved=AVERAGE_SCORE_SOLVED)\n"
   ]
  },
  {
   "cell_type": "code",
   "execution_count": null,
   "metadata": {},
   "outputs": [],
   "source": [
    "#Plot the training session (scores per episode averaged across all agents)\n",
    "\n",
    "def plot_scores(scores):\n",
    "    plt.plot(scores, color='royalblue')\n",
    "    plt.title('Scores per episode')\n",
    "    plt.ylabel('score')\n",
    "    plt.xlabel('episode #')\n",
    "    plt.show()\n",
    "    \n",
    "plot_scores(scores)\n"
   ]
  },
  {
   "cell_type": "code",
   "execution_count": null,
   "metadata": {},
   "outputs": [],
   "source": [
    "#See the trained agent in action.\n",
    "agent = multi_agent\n",
    "\n",
    "env_info = env.reset(train_mode=False)[brain_name] # reset the environment\n",
    "states = env_info.vector_observations              # get the current state\n",
    "\n",
    "#Uncomment these lines to use a saved checkpoint:\n",
    "#agent = Agent(state_size=state_size,\n",
    "#              action_size=action_size,\n",
    "#              num_agents=num_agents,\n",
    "#              buffer_size=BUFFER_SIZE,\n",
    "#              batch_size=BATCH_SIZE,\n",
    "#              gamma=GAMMA,\n",
    "#              tau=TAU,\n",
    "#              learning_rate_actor=LR_ACTOR,\n",
    "#              learning_rate_critic=LR_CRITIC,\n",
    "#              device=device,\n",
    "#              update_every=UPDATE_EVERY,\n",
    "#              random_seed=42)\n",
    "#agent.actor_local.load_state_dict(torch.load('solved_checkpoint_actor.pth'))\n",
    "\n",
    "scores = np.zeros(num_agents) \n",
    "while True:\n",
    "    actions = agent.act(states, add_noise=False)   # select an action\n",
    "    env_info = env.step(actions)[brain_name]       # send the action to the environment\n",
    "    next_states = env_info.vector_observations     # get the next state\n",
    "    rewards = env_info.rewards                     # get the reward\n",
    "    dones = env_info.local_done                    # see if episode has finished\n",
    "    states = next_states                           # roll over the state to next time step\n",
    "    scores += rewards                              # update the score\n",
    "    if np.any(dones):                              # exit loop if episode finished\n",
    "        break\n",
    "    \n",
    "print(\"Average Score: {}\".format(np.mean(scores)))\n"
   ]
  },
  {
   "cell_type": "code",
   "execution_count": null,
   "metadata": {},
   "outputs": [],
   "source": []
  },
  {
   "cell_type": "code",
   "execution_count": null,
   "metadata": {},
   "outputs": [],
   "source": [
    "env.close()"
   ]
  },
  {
   "cell_type": "code",
   "execution_count": null,
   "metadata": {},
   "outputs": [],
   "source": []
  },
  {
   "cell_type": "code",
   "execution_count": null,
   "metadata": {},
   "outputs": [],
   "source": [
    "##\n",
    "#batch size (smaller?) - (remove batch norm?)\n",
    "#buffer size 20-30k?\n",
    "#update less\n",
    "\n",
    "#weight decay?\n",
    "#smaller model - no falloff?\n",
    "#reduce model size more\n",
    "#learning rate \n",
    "#noise\n",
    "\n",
    "#use 2 agents (maddgp)"
   ]
  },
  {
   "cell_type": "code",
   "execution_count": null,
   "metadata": {},
   "outputs": [],
   "source": []
  }
 ],
 "metadata": {
  "kernelspec": {
   "display_name": "drlnd",
   "language": "python",
   "name": "drlnd"
  },
  "language_info": {
   "codemirror_mode": {
    "name": "ipython",
    "version": 3
   },
   "file_extension": ".py",
   "mimetype": "text/x-python",
   "name": "python",
   "nbconvert_exporter": "python",
   "pygments_lexer": "ipython3",
   "version": "3.6.12"
  }
 },
 "nbformat": 4,
 "nbformat_minor": 2
}
